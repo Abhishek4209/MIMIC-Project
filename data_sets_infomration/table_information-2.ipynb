{
 "cells": [
  {
   "cell_type": "markdown",
   "metadata": {},
   "source": [
    "## Description of shape and features of the table "
   ]
  },
  {
   "cell_type": "code",
   "execution_count": 5,
   "metadata": {},
   "outputs": [],
   "source": [
    "import os\n",
    "import pandas as pd\n",
    "import sys"
   ]
  },
  {
   "cell_type": "code",
   "execution_count": 6,
   "metadata": {},
   "outputs": [],
   "source": [
    "def read_csv_files(folder_path):\n",
    "    try:\n",
    "        files = [file for file in os.listdir(folder_path) if file.endswith('.csv')]\n",
    "        if not files:\n",
    "            print(\"No CSV files found in the specified folder.\")\n",
    "            return\n",
    "        for file in files:\n",
    "            file_path = os.path.join(folder_path, file)\n",
    "            print(f\"\\nReading file: {file}\")\n",
    "            try:\n",
    "                df = pd.read_csv(file_path)\n",
    "                print(\"------\"*40)\n",
    "                print(df.head())\n",
    "                print('Shape of given data {file :}',df.shape)\n",
    "                print(f\"Columns: {list(df.columns)}\")\n",
    "                print(f\"Shape: {df.shape}\")\n",
    "                df.head()\n",
    "                print('------'*40,'\\n')\n",
    "            except Exception as e:\n",
    "                print(f\"Failed to read {file}: {e}\")\n",
    "    except Exception as e:\n",
    "        print(f\"An error occurred: {e}\")"
   ]
  },
  {
   "cell_type": "code",
   "execution_count": 7,
   "metadata": {},
   "outputs": [
    {
     "name": "stdout",
     "output_type": "stream",
     "text": [
      "An error occurred: [WinError 3] The system cannot find the path specified: 'D:\\\\Final_year_project\\\\final project dataset\\\\final project'\n"
     ]
    }
   ],
   "source": [
    "read_csv_files(r'D:\\Final_year_project\\final project dataset\\final project')"
   ]
  },
  {
   "cell_type": "code",
   "execution_count": null,
   "metadata": {},
   "outputs": [],
   "source": []
  },
  {
   "cell_type": "markdown",
   "metadata": {},
   "source": [
    "# MIMIC DATASET COLUMN DESCRIPTION"
   ]
  },
  {
   "cell_type": "markdown",
   "metadata": {},
   "source": [
    "### 1. ADMISSIONS.csv DATA INFORMATION"
   ]
  },
  {
   "cell_type": "code",
   "execution_count": null,
   "metadata": {},
   "outputs": [],
   "source": []
  },
  {
   "cell_type": "code",
   "execution_count": 8,
   "metadata": {},
   "outputs": [
    {
     "ename": "FileNotFoundError",
     "evalue": "[Errno 2] No such file or directory: 'D:\\\\Final_year_project\\\\final project dataset\\\\final project\\\\ADMISSIONS.csv'",
     "output_type": "error",
     "traceback": [
      "\u001b[1;31m---------------------------------------------------------------------------\u001b[0m",
      "\u001b[1;31mFileNotFoundError\u001b[0m                         Traceback (most recent call last)",
      "Cell \u001b[1;32mIn[8], line 1\u001b[0m\n\u001b[1;32m----> 1\u001b[0m ADMISSIONS\u001b[38;5;241m=\u001b[39m\u001b[43mpd\u001b[49m\u001b[38;5;241;43m.\u001b[39;49m\u001b[43mread_csv\u001b[49m\u001b[43m(\u001b[49m\u001b[38;5;124;43mr\u001b[39;49m\u001b[38;5;124;43m'\u001b[39;49m\u001b[38;5;124;43mD:\u001b[39;49m\u001b[38;5;124;43m\\\u001b[39;49m\u001b[38;5;124;43mFinal_year_project\u001b[39;49m\u001b[38;5;124;43m\\\u001b[39;49m\u001b[38;5;124;43mfinal project dataset\u001b[39;49m\u001b[38;5;124;43m\\\u001b[39;49m\u001b[38;5;124;43mfinal project\u001b[39;49m\u001b[38;5;124;43m\\\u001b[39;49m\u001b[38;5;124;43mADMISSIONS.csv\u001b[39;49m\u001b[38;5;124;43m'\u001b[39;49m\u001b[43m)\u001b[49m\n\u001b[0;32m      2\u001b[0m ADMISSIONS\u001b[38;5;241m.\u001b[39mhead()\n",
      "File \u001b[1;32md:\\FINALYEARPROJECTREC\\venv\\Lib\\site-packages\\pandas\\io\\parsers\\readers.py:1026\u001b[0m, in \u001b[0;36mread_csv\u001b[1;34m(filepath_or_buffer, sep, delimiter, header, names, index_col, usecols, dtype, engine, converters, true_values, false_values, skipinitialspace, skiprows, skipfooter, nrows, na_values, keep_default_na, na_filter, verbose, skip_blank_lines, parse_dates, infer_datetime_format, keep_date_col, date_parser, date_format, dayfirst, cache_dates, iterator, chunksize, compression, thousands, decimal, lineterminator, quotechar, quoting, doublequote, escapechar, comment, encoding, encoding_errors, dialect, on_bad_lines, delim_whitespace, low_memory, memory_map, float_precision, storage_options, dtype_backend)\u001b[0m\n\u001b[0;32m   1013\u001b[0m kwds_defaults \u001b[38;5;241m=\u001b[39m _refine_defaults_read(\n\u001b[0;32m   1014\u001b[0m     dialect,\n\u001b[0;32m   1015\u001b[0m     delimiter,\n\u001b[1;32m   (...)\u001b[0m\n\u001b[0;32m   1022\u001b[0m     dtype_backend\u001b[38;5;241m=\u001b[39mdtype_backend,\n\u001b[0;32m   1023\u001b[0m )\n\u001b[0;32m   1024\u001b[0m kwds\u001b[38;5;241m.\u001b[39mupdate(kwds_defaults)\n\u001b[1;32m-> 1026\u001b[0m \u001b[38;5;28;01mreturn\u001b[39;00m \u001b[43m_read\u001b[49m\u001b[43m(\u001b[49m\u001b[43mfilepath_or_buffer\u001b[49m\u001b[43m,\u001b[49m\u001b[43m \u001b[49m\u001b[43mkwds\u001b[49m\u001b[43m)\u001b[49m\n",
      "File \u001b[1;32md:\\FINALYEARPROJECTREC\\venv\\Lib\\site-packages\\pandas\\io\\parsers\\readers.py:620\u001b[0m, in \u001b[0;36m_read\u001b[1;34m(filepath_or_buffer, kwds)\u001b[0m\n\u001b[0;32m    617\u001b[0m _validate_names(kwds\u001b[38;5;241m.\u001b[39mget(\u001b[38;5;124m\"\u001b[39m\u001b[38;5;124mnames\u001b[39m\u001b[38;5;124m\"\u001b[39m, \u001b[38;5;28;01mNone\u001b[39;00m))\n\u001b[0;32m    619\u001b[0m \u001b[38;5;66;03m# Create the parser.\u001b[39;00m\n\u001b[1;32m--> 620\u001b[0m parser \u001b[38;5;241m=\u001b[39m \u001b[43mTextFileReader\u001b[49m\u001b[43m(\u001b[49m\u001b[43mfilepath_or_buffer\u001b[49m\u001b[43m,\u001b[49m\u001b[43m \u001b[49m\u001b[38;5;241;43m*\u001b[39;49m\u001b[38;5;241;43m*\u001b[39;49m\u001b[43mkwds\u001b[49m\u001b[43m)\u001b[49m\n\u001b[0;32m    622\u001b[0m \u001b[38;5;28;01mif\u001b[39;00m chunksize \u001b[38;5;129;01mor\u001b[39;00m iterator:\n\u001b[0;32m    623\u001b[0m     \u001b[38;5;28;01mreturn\u001b[39;00m parser\n",
      "File \u001b[1;32md:\\FINALYEARPROJECTREC\\venv\\Lib\\site-packages\\pandas\\io\\parsers\\readers.py:1620\u001b[0m, in \u001b[0;36mTextFileReader.__init__\u001b[1;34m(self, f, engine, **kwds)\u001b[0m\n\u001b[0;32m   1617\u001b[0m     \u001b[38;5;28mself\u001b[39m\u001b[38;5;241m.\u001b[39moptions[\u001b[38;5;124m\"\u001b[39m\u001b[38;5;124mhas_index_names\u001b[39m\u001b[38;5;124m\"\u001b[39m] \u001b[38;5;241m=\u001b[39m kwds[\u001b[38;5;124m\"\u001b[39m\u001b[38;5;124mhas_index_names\u001b[39m\u001b[38;5;124m\"\u001b[39m]\n\u001b[0;32m   1619\u001b[0m \u001b[38;5;28mself\u001b[39m\u001b[38;5;241m.\u001b[39mhandles: IOHandles \u001b[38;5;241m|\u001b[39m \u001b[38;5;28;01mNone\u001b[39;00m \u001b[38;5;241m=\u001b[39m \u001b[38;5;28;01mNone\u001b[39;00m\n\u001b[1;32m-> 1620\u001b[0m \u001b[38;5;28mself\u001b[39m\u001b[38;5;241m.\u001b[39m_engine \u001b[38;5;241m=\u001b[39m \u001b[38;5;28;43mself\u001b[39;49m\u001b[38;5;241;43m.\u001b[39;49m\u001b[43m_make_engine\u001b[49m\u001b[43m(\u001b[49m\u001b[43mf\u001b[49m\u001b[43m,\u001b[49m\u001b[43m \u001b[49m\u001b[38;5;28;43mself\u001b[39;49m\u001b[38;5;241;43m.\u001b[39;49m\u001b[43mengine\u001b[49m\u001b[43m)\u001b[49m\n",
      "File \u001b[1;32md:\\FINALYEARPROJECTREC\\venv\\Lib\\site-packages\\pandas\\io\\parsers\\readers.py:1880\u001b[0m, in \u001b[0;36mTextFileReader._make_engine\u001b[1;34m(self, f, engine)\u001b[0m\n\u001b[0;32m   1878\u001b[0m     \u001b[38;5;28;01mif\u001b[39;00m \u001b[38;5;124m\"\u001b[39m\u001b[38;5;124mb\u001b[39m\u001b[38;5;124m\"\u001b[39m \u001b[38;5;129;01mnot\u001b[39;00m \u001b[38;5;129;01min\u001b[39;00m mode:\n\u001b[0;32m   1879\u001b[0m         mode \u001b[38;5;241m+\u001b[39m\u001b[38;5;241m=\u001b[39m \u001b[38;5;124m\"\u001b[39m\u001b[38;5;124mb\u001b[39m\u001b[38;5;124m\"\u001b[39m\n\u001b[1;32m-> 1880\u001b[0m \u001b[38;5;28mself\u001b[39m\u001b[38;5;241m.\u001b[39mhandles \u001b[38;5;241m=\u001b[39m \u001b[43mget_handle\u001b[49m\u001b[43m(\u001b[49m\n\u001b[0;32m   1881\u001b[0m \u001b[43m    \u001b[49m\u001b[43mf\u001b[49m\u001b[43m,\u001b[49m\n\u001b[0;32m   1882\u001b[0m \u001b[43m    \u001b[49m\u001b[43mmode\u001b[49m\u001b[43m,\u001b[49m\n\u001b[0;32m   1883\u001b[0m \u001b[43m    \u001b[49m\u001b[43mencoding\u001b[49m\u001b[38;5;241;43m=\u001b[39;49m\u001b[38;5;28;43mself\u001b[39;49m\u001b[38;5;241;43m.\u001b[39;49m\u001b[43moptions\u001b[49m\u001b[38;5;241;43m.\u001b[39;49m\u001b[43mget\u001b[49m\u001b[43m(\u001b[49m\u001b[38;5;124;43m\"\u001b[39;49m\u001b[38;5;124;43mencoding\u001b[39;49m\u001b[38;5;124;43m\"\u001b[39;49m\u001b[43m,\u001b[49m\u001b[43m \u001b[49m\u001b[38;5;28;43;01mNone\u001b[39;49;00m\u001b[43m)\u001b[49m\u001b[43m,\u001b[49m\n\u001b[0;32m   1884\u001b[0m \u001b[43m    \u001b[49m\u001b[43mcompression\u001b[49m\u001b[38;5;241;43m=\u001b[39;49m\u001b[38;5;28;43mself\u001b[39;49m\u001b[38;5;241;43m.\u001b[39;49m\u001b[43moptions\u001b[49m\u001b[38;5;241;43m.\u001b[39;49m\u001b[43mget\u001b[49m\u001b[43m(\u001b[49m\u001b[38;5;124;43m\"\u001b[39;49m\u001b[38;5;124;43mcompression\u001b[39;49m\u001b[38;5;124;43m\"\u001b[39;49m\u001b[43m,\u001b[49m\u001b[43m \u001b[49m\u001b[38;5;28;43;01mNone\u001b[39;49;00m\u001b[43m)\u001b[49m\u001b[43m,\u001b[49m\n\u001b[0;32m   1885\u001b[0m \u001b[43m    \u001b[49m\u001b[43mmemory_map\u001b[49m\u001b[38;5;241;43m=\u001b[39;49m\u001b[38;5;28;43mself\u001b[39;49m\u001b[38;5;241;43m.\u001b[39;49m\u001b[43moptions\u001b[49m\u001b[38;5;241;43m.\u001b[39;49m\u001b[43mget\u001b[49m\u001b[43m(\u001b[49m\u001b[38;5;124;43m\"\u001b[39;49m\u001b[38;5;124;43mmemory_map\u001b[39;49m\u001b[38;5;124;43m\"\u001b[39;49m\u001b[43m,\u001b[49m\u001b[43m \u001b[49m\u001b[38;5;28;43;01mFalse\u001b[39;49;00m\u001b[43m)\u001b[49m\u001b[43m,\u001b[49m\n\u001b[0;32m   1886\u001b[0m \u001b[43m    \u001b[49m\u001b[43mis_text\u001b[49m\u001b[38;5;241;43m=\u001b[39;49m\u001b[43mis_text\u001b[49m\u001b[43m,\u001b[49m\n\u001b[0;32m   1887\u001b[0m \u001b[43m    \u001b[49m\u001b[43merrors\u001b[49m\u001b[38;5;241;43m=\u001b[39;49m\u001b[38;5;28;43mself\u001b[39;49m\u001b[38;5;241;43m.\u001b[39;49m\u001b[43moptions\u001b[49m\u001b[38;5;241;43m.\u001b[39;49m\u001b[43mget\u001b[49m\u001b[43m(\u001b[49m\u001b[38;5;124;43m\"\u001b[39;49m\u001b[38;5;124;43mencoding_errors\u001b[39;49m\u001b[38;5;124;43m\"\u001b[39;49m\u001b[43m,\u001b[49m\u001b[43m \u001b[49m\u001b[38;5;124;43m\"\u001b[39;49m\u001b[38;5;124;43mstrict\u001b[39;49m\u001b[38;5;124;43m\"\u001b[39;49m\u001b[43m)\u001b[49m\u001b[43m,\u001b[49m\n\u001b[0;32m   1888\u001b[0m \u001b[43m    \u001b[49m\u001b[43mstorage_options\u001b[49m\u001b[38;5;241;43m=\u001b[39;49m\u001b[38;5;28;43mself\u001b[39;49m\u001b[38;5;241;43m.\u001b[39;49m\u001b[43moptions\u001b[49m\u001b[38;5;241;43m.\u001b[39;49m\u001b[43mget\u001b[49m\u001b[43m(\u001b[49m\u001b[38;5;124;43m\"\u001b[39;49m\u001b[38;5;124;43mstorage_options\u001b[39;49m\u001b[38;5;124;43m\"\u001b[39;49m\u001b[43m,\u001b[49m\u001b[43m \u001b[49m\u001b[38;5;28;43;01mNone\u001b[39;49;00m\u001b[43m)\u001b[49m\u001b[43m,\u001b[49m\n\u001b[0;32m   1889\u001b[0m \u001b[43m\u001b[49m\u001b[43m)\u001b[49m\n\u001b[0;32m   1890\u001b[0m \u001b[38;5;28;01massert\u001b[39;00m \u001b[38;5;28mself\u001b[39m\u001b[38;5;241m.\u001b[39mhandles \u001b[38;5;129;01mis\u001b[39;00m \u001b[38;5;129;01mnot\u001b[39;00m \u001b[38;5;28;01mNone\u001b[39;00m\n\u001b[0;32m   1891\u001b[0m f \u001b[38;5;241m=\u001b[39m \u001b[38;5;28mself\u001b[39m\u001b[38;5;241m.\u001b[39mhandles\u001b[38;5;241m.\u001b[39mhandle\n",
      "File \u001b[1;32md:\\FINALYEARPROJECTREC\\venv\\Lib\\site-packages\\pandas\\io\\common.py:873\u001b[0m, in \u001b[0;36mget_handle\u001b[1;34m(path_or_buf, mode, encoding, compression, memory_map, is_text, errors, storage_options)\u001b[0m\n\u001b[0;32m    868\u001b[0m \u001b[38;5;28;01melif\u001b[39;00m \u001b[38;5;28misinstance\u001b[39m(handle, \u001b[38;5;28mstr\u001b[39m):\n\u001b[0;32m    869\u001b[0m     \u001b[38;5;66;03m# Check whether the filename is to be opened in binary mode.\u001b[39;00m\n\u001b[0;32m    870\u001b[0m     \u001b[38;5;66;03m# Binary mode does not support 'encoding' and 'newline'.\u001b[39;00m\n\u001b[0;32m    871\u001b[0m     \u001b[38;5;28;01mif\u001b[39;00m ioargs\u001b[38;5;241m.\u001b[39mencoding \u001b[38;5;129;01mand\u001b[39;00m \u001b[38;5;124m\"\u001b[39m\u001b[38;5;124mb\u001b[39m\u001b[38;5;124m\"\u001b[39m \u001b[38;5;129;01mnot\u001b[39;00m \u001b[38;5;129;01min\u001b[39;00m ioargs\u001b[38;5;241m.\u001b[39mmode:\n\u001b[0;32m    872\u001b[0m         \u001b[38;5;66;03m# Encoding\u001b[39;00m\n\u001b[1;32m--> 873\u001b[0m         handle \u001b[38;5;241m=\u001b[39m \u001b[38;5;28;43mopen\u001b[39;49m\u001b[43m(\u001b[49m\n\u001b[0;32m    874\u001b[0m \u001b[43m            \u001b[49m\u001b[43mhandle\u001b[49m\u001b[43m,\u001b[49m\n\u001b[0;32m    875\u001b[0m \u001b[43m            \u001b[49m\u001b[43mioargs\u001b[49m\u001b[38;5;241;43m.\u001b[39;49m\u001b[43mmode\u001b[49m\u001b[43m,\u001b[49m\n\u001b[0;32m    876\u001b[0m \u001b[43m            \u001b[49m\u001b[43mencoding\u001b[49m\u001b[38;5;241;43m=\u001b[39;49m\u001b[43mioargs\u001b[49m\u001b[38;5;241;43m.\u001b[39;49m\u001b[43mencoding\u001b[49m\u001b[43m,\u001b[49m\n\u001b[0;32m    877\u001b[0m \u001b[43m            \u001b[49m\u001b[43merrors\u001b[49m\u001b[38;5;241;43m=\u001b[39;49m\u001b[43merrors\u001b[49m\u001b[43m,\u001b[49m\n\u001b[0;32m    878\u001b[0m \u001b[43m            \u001b[49m\u001b[43mnewline\u001b[49m\u001b[38;5;241;43m=\u001b[39;49m\u001b[38;5;124;43m\"\u001b[39;49m\u001b[38;5;124;43m\"\u001b[39;49m\u001b[43m,\u001b[49m\n\u001b[0;32m    879\u001b[0m \u001b[43m        \u001b[49m\u001b[43m)\u001b[49m\n\u001b[0;32m    880\u001b[0m     \u001b[38;5;28;01melse\u001b[39;00m:\n\u001b[0;32m    881\u001b[0m         \u001b[38;5;66;03m# Binary mode\u001b[39;00m\n\u001b[0;32m    882\u001b[0m         handle \u001b[38;5;241m=\u001b[39m \u001b[38;5;28mopen\u001b[39m(handle, ioargs\u001b[38;5;241m.\u001b[39mmode)\n",
      "\u001b[1;31mFileNotFoundError\u001b[0m: [Errno 2] No such file or directory: 'D:\\\\Final_year_project\\\\final project dataset\\\\final project\\\\ADMISSIONS.csv'"
     ]
    }
   ],
   "source": [
    "ADMISSIONS=pd.read_csv(r'D:\\Final_year_project\\final project dataset\\final project\\ADMISSIONS.csv')\n",
    "ADMISSIONS.head()"
   ]
  },
  {
   "cell_type": "code",
   "execution_count": 26,
   "metadata": {},
   "outputs": [
    {
     "data": {
      "text/plain": [
       "(58976, 19)"
      ]
     },
     "execution_count": 26,
     "metadata": {},
     "output_type": "execute_result"
    }
   ],
   "source": [
    "ADMISSIONS.shape"
   ]
  },
  {
   "cell_type": "code",
   "execution_count": null,
   "metadata": {},
   "outputs": [],
   "source": [
    "sd"
   ]
  },
  {
   "cell_type": "markdown",
   "metadata": {},
   "source": [
    "Here’s the ADMISSIONS table description in tabular format:\n",
    "\n",
    "|**Column Name**|\t**Description**|\n",
    "|------------------------|-------------------------------------------------------------------------------------------------------|\n",
    "|ROW_ID|\tUnique identifier for each row in the table (used for internal tracking).|\n",
    "|SUBJECT_ID|\tIdentifier for the patient associated with the admission (links to the PATIENTS table).|\n",
    "|HADM_ID|\tUnique identifier for the hospital admission (used to link to other tables like CHARTEVENTS).|\n",
    "|ADMITTIME|\tDate and time when the patient was admitted to the hospital.|\n",
    "|DISCHTIME|\tDate and time when the patient was discharged from the hospital.|\n",
    "|DEATHTIME|\tDate and time of death if the patient died during the hospital stay.|\n",
    "|ADMISSION_TYPE|\tType of admission (e.g., ELECTIVE, EMERGENCY, URGENT, NEWBORN).|\n",
    "|ADMISSION_LOCATION|\tLocation from which the patient was admitted (e.g., EMERGENCY ROOM ADMIT).|\n",
    "|DISCHARGE_LOCATION|\tLocation to which the patient was discharged (e.g., HOME, SKILLED NURSING FACILITY).|\n",
    "|INSURANCE|\tType of insurance used for the admission (e.g., Medicare, Private, Medicaid, Self Pay).|\n",
    "|LANGUAGE|\tPrimary language of the patient (nullable).|\n",
    "|RELIGION|\tStated religion of the patient (e.g., CATHOLIC, JEWISH).|\n",
    "|MARITAL_STATUS|\tMarital status of the patient (e.g., SINGLE, MARRIED, DIVORCED).|\n",
    "|ETHNICITY|\tStated ethnicity of the patient (e.g., WHITE, BLACK/AFRICAN AMERICAN, HISPANIC/LATINO).|\n",
    "|EDREGTIME|\tTime the patient registered in the emergency department (if applicable).|\n",
    "|EDOUTTIME|\tTime the patient was discharged from the emergency department (if applicable).|\n",
    "|DIAGNOSIS|\tFree-text primary diagnosis recorded at admission.|\n",
    "|HOSPITAL_EXPIRE_FLAG|\tIndicator for whether the patient expired during the hospital stay (1 if expired, 0 otherwise).|\n",
    "|HAS_CHARTEVENTS_DATA|\tIndicator for whether the admission has associated data in the CHARTEVENTS table (1 if yes).|"
   ]
  },
  {
   "cell_type": "markdown",
   "metadata": {},
   "source": []
  },
  {
   "cell_type": "markdown",
   "metadata": {},
   "source": [
    "## 2. CALLOUT.csv DATA INFORMATION"
   ]
  },
  {
   "cell_type": "code",
   "execution_count": 27,
   "metadata": {},
   "outputs": [
    {
     "data": {
      "text/html": [
       "<div>\n",
       "<style scoped>\n",
       "    .dataframe tbody tr th:only-of-type {\n",
       "        vertical-align: middle;\n",
       "    }\n",
       "\n",
       "    .dataframe tbody tr th {\n",
       "        vertical-align: top;\n",
       "    }\n",
       "\n",
       "    .dataframe thead th {\n",
       "        text-align: right;\n",
       "    }\n",
       "</style>\n",
       "<table border=\"1\" class=\"dataframe\">\n",
       "  <thead>\n",
       "    <tr style=\"text-align: right;\">\n",
       "      <th></th>\n",
       "      <th>ROW_ID</th>\n",
       "      <th>SUBJECT_ID</th>\n",
       "      <th>HADM_ID</th>\n",
       "      <th>SUBMIT_WARDID</th>\n",
       "      <th>SUBMIT_CAREUNIT</th>\n",
       "      <th>CURR_WARDID</th>\n",
       "      <th>CURR_CAREUNIT</th>\n",
       "      <th>CALLOUT_WARDID</th>\n",
       "      <th>CALLOUT_SERVICE</th>\n",
       "      <th>REQUEST_TELE</th>\n",
       "      <th>...</th>\n",
       "      <th>CALLOUT_STATUS</th>\n",
       "      <th>CALLOUT_OUTCOME</th>\n",
       "      <th>DISCHARGE_WARDID</th>\n",
       "      <th>ACKNOWLEDGE_STATUS</th>\n",
       "      <th>CREATETIME</th>\n",
       "      <th>UPDATETIME</th>\n",
       "      <th>ACKNOWLEDGETIME</th>\n",
       "      <th>OUTCOMETIME</th>\n",
       "      <th>FIRSTRESERVATIONTIME</th>\n",
       "      <th>CURRENTRESERVATIONTIME</th>\n",
       "    </tr>\n",
       "  </thead>\n",
       "  <tbody>\n",
       "    <tr>\n",
       "      <th>0</th>\n",
       "      <td>402</td>\n",
       "      <td>854</td>\n",
       "      <td>175684</td>\n",
       "      <td>52.0</td>\n",
       "      <td>NaN</td>\n",
       "      <td>29.0</td>\n",
       "      <td>MICU</td>\n",
       "      <td>1</td>\n",
       "      <td>MED</td>\n",
       "      <td>0</td>\n",
       "      <td>...</td>\n",
       "      <td>Inactive</td>\n",
       "      <td>Discharged</td>\n",
       "      <td>29.0</td>\n",
       "      <td>Acknowledged</td>\n",
       "      <td>2146-10-05 13:16:55</td>\n",
       "      <td>2146-10-05 13:16:55</td>\n",
       "      <td>2146-10-05 13:24:00</td>\n",
       "      <td>2146-10-05 18:55:22</td>\n",
       "      <td>2146-10-05 15:27:44</td>\n",
       "      <td>NaN</td>\n",
       "    </tr>\n",
       "    <tr>\n",
       "      <th>1</th>\n",
       "      <td>403</td>\n",
       "      <td>864</td>\n",
       "      <td>138624</td>\n",
       "      <td>15.0</td>\n",
       "      <td>NaN</td>\n",
       "      <td>55.0</td>\n",
       "      <td>CSRU</td>\n",
       "      <td>55</td>\n",
       "      <td>CSURG</td>\n",
       "      <td>0</td>\n",
       "      <td>...</td>\n",
       "      <td>Inactive</td>\n",
       "      <td>Discharged</td>\n",
       "      <td>55.0</td>\n",
       "      <td>Acknowledged</td>\n",
       "      <td>2114-11-28 08:31:39</td>\n",
       "      <td>2114-11-28 09:42:08</td>\n",
       "      <td>2114-11-28 09:43:08</td>\n",
       "      <td>2114-11-28 12:10:02</td>\n",
       "      <td>NaN</td>\n",
       "      <td>NaN</td>\n",
       "    </tr>\n",
       "    <tr>\n",
       "      <th>2</th>\n",
       "      <td>404</td>\n",
       "      <td>864</td>\n",
       "      <td>138624</td>\n",
       "      <td>12.0</td>\n",
       "      <td>NaN</td>\n",
       "      <td>55.0</td>\n",
       "      <td>CSRU</td>\n",
       "      <td>55</td>\n",
       "      <td>CSURG</td>\n",
       "      <td>1</td>\n",
       "      <td>...</td>\n",
       "      <td>Inactive</td>\n",
       "      <td>Discharged</td>\n",
       "      <td>55.0</td>\n",
       "      <td>Acknowledged</td>\n",
       "      <td>2114-11-30 10:24:25</td>\n",
       "      <td>2114-12-01 09:06:18</td>\n",
       "      <td>2114-12-01 12:26:05</td>\n",
       "      <td>2114-12-01 21:55:05</td>\n",
       "      <td>NaN</td>\n",
       "      <td>NaN</td>\n",
       "    </tr>\n",
       "    <tr>\n",
       "      <th>3</th>\n",
       "      <td>405</td>\n",
       "      <td>867</td>\n",
       "      <td>184298</td>\n",
       "      <td>7.0</td>\n",
       "      <td>NaN</td>\n",
       "      <td>17.0</td>\n",
       "      <td>CCU</td>\n",
       "      <td>17</td>\n",
       "      <td>CCU</td>\n",
       "      <td>1</td>\n",
       "      <td>...</td>\n",
       "      <td>Inactive</td>\n",
       "      <td>Discharged</td>\n",
       "      <td>17.0</td>\n",
       "      <td>Acknowledged</td>\n",
       "      <td>2136-12-29 08:45:42</td>\n",
       "      <td>2136-12-29 10:17:16</td>\n",
       "      <td>2136-12-29 10:33:51</td>\n",
       "      <td>2136-12-29 18:10:02</td>\n",
       "      <td>NaN</td>\n",
       "      <td>NaN</td>\n",
       "    </tr>\n",
       "    <tr>\n",
       "      <th>4</th>\n",
       "      <td>157</td>\n",
       "      <td>306</td>\n",
       "      <td>167129</td>\n",
       "      <td>57.0</td>\n",
       "      <td>NaN</td>\n",
       "      <td>3.0</td>\n",
       "      <td>SICU</td>\n",
       "      <td>44</td>\n",
       "      <td>NSURG</td>\n",
       "      <td>1</td>\n",
       "      <td>...</td>\n",
       "      <td>Inactive</td>\n",
       "      <td>Discharged</td>\n",
       "      <td>3.0</td>\n",
       "      <td>Acknowledged</td>\n",
       "      <td>2199-09-18 11:47:47</td>\n",
       "      <td>2199-09-18 11:47:47</td>\n",
       "      <td>2199-09-18 11:58:33</td>\n",
       "      <td>2199-09-18 15:10:02</td>\n",
       "      <td>NaN</td>\n",
       "      <td>NaN</td>\n",
       "    </tr>\n",
       "  </tbody>\n",
       "</table>\n",
       "<p>5 rows × 24 columns</p>\n",
       "</div>"
      ],
      "text/plain": [
       "   ROW_ID  SUBJECT_ID  HADM_ID  SUBMIT_WARDID SUBMIT_CAREUNIT  CURR_WARDID  \\\n",
       "0     402         854   175684           52.0             NaN         29.0   \n",
       "1     403         864   138624           15.0             NaN         55.0   \n",
       "2     404         864   138624           12.0             NaN         55.0   \n",
       "3     405         867   184298            7.0             NaN         17.0   \n",
       "4     157         306   167129           57.0             NaN          3.0   \n",
       "\n",
       "  CURR_CAREUNIT  CALLOUT_WARDID CALLOUT_SERVICE  REQUEST_TELE  ...  \\\n",
       "0          MICU               1             MED             0  ...   \n",
       "1          CSRU              55           CSURG             0  ...   \n",
       "2          CSRU              55           CSURG             1  ...   \n",
       "3           CCU              17             CCU             1  ...   \n",
       "4          SICU              44           NSURG             1  ...   \n",
       "\n",
       "   CALLOUT_STATUS  CALLOUT_OUTCOME  DISCHARGE_WARDID  ACKNOWLEDGE_STATUS  \\\n",
       "0        Inactive       Discharged              29.0        Acknowledged   \n",
       "1        Inactive       Discharged              55.0        Acknowledged   \n",
       "2        Inactive       Discharged              55.0        Acknowledged   \n",
       "3        Inactive       Discharged              17.0        Acknowledged   \n",
       "4        Inactive       Discharged               3.0        Acknowledged   \n",
       "\n",
       "            CREATETIME           UPDATETIME      ACKNOWLEDGETIME  \\\n",
       "0  2146-10-05 13:16:55  2146-10-05 13:16:55  2146-10-05 13:24:00   \n",
       "1  2114-11-28 08:31:39  2114-11-28 09:42:08  2114-11-28 09:43:08   \n",
       "2  2114-11-30 10:24:25  2114-12-01 09:06:18  2114-12-01 12:26:05   \n",
       "3  2136-12-29 08:45:42  2136-12-29 10:17:16  2136-12-29 10:33:51   \n",
       "4  2199-09-18 11:47:47  2199-09-18 11:47:47  2199-09-18 11:58:33   \n",
       "\n",
       "           OUTCOMETIME FIRSTRESERVATIONTIME CURRENTRESERVATIONTIME  \n",
       "0  2146-10-05 18:55:22  2146-10-05 15:27:44                    NaN  \n",
       "1  2114-11-28 12:10:02                  NaN                    NaN  \n",
       "2  2114-12-01 21:55:05                  NaN                    NaN  \n",
       "3  2136-12-29 18:10:02                  NaN                    NaN  \n",
       "4  2199-09-18 15:10:02                  NaN                    NaN  \n",
       "\n",
       "[5 rows x 24 columns]"
      ]
     },
     "execution_count": 27,
     "metadata": {},
     "output_type": "execute_result"
    }
   ],
   "source": [
    "CALLOUT=pd.read_csv(r'D:\\Final_year_project\\final project dataset\\final project\\CALLOUT.csv')\n",
    "CALLOUT.head()"
   ]
  },
  {
   "cell_type": "code",
   "execution_count": 28,
   "metadata": {},
   "outputs": [
    {
     "data": {
      "text/plain": [
       "(34499, 24)"
      ]
     },
     "execution_count": 28,
     "metadata": {},
     "output_type": "execute_result"
    }
   ],
   "source": [
    "CALLOUT.shape"
   ]
  },
  {
   "cell_type": "markdown",
   "metadata": {},
   "source": [
    " Here’s the CALLOUT table description in tabular format:\n",
    "\n",
    "|**Column Name**|\t**Description**|\n",
    "|------------------------|-------------------------------------------------------------------------------------------------------|\n",
    "|ROW_ID|\tUnique identifier for each row in the table (used for internal tracking).|\n",
    "|SUBJECT_ID|\tIdentifier for the patient associated with the callout (links to the PATIENTS table).|\n",
    "|HADM_ID\t|Identifier for the hospital admission associated with the callout (links to the ADMISSIONS table).|\n",
    "|SUBMIT_WARDID|\tIdentifier for the ward where the callout was submitted.|\n",
    "|SUBMIT_CAREUNIT|\tCare unit where the callout was initiated (e.g., ICU, General Ward).|\n",
    "|CURR_WARDID|\tIdentifier for the ward where the patient was located at the time of callout submission.|\n",
    "|CURR_CAREUNIT|\tCare unit where the patient was located at the time of callout submission.|\n",
    "|CALL_WARDID\t|Identifier for the ward to which the patient is being transferred.|\n",
    "|CALL_CAREUNIT|\tCare unit to which the patient is being transferred (e.g., ICU, Recovery Unit).|\n",
    "|BASE_WARDID|\tIdentifier for the patient's originating ward before the transfer.|\n",
    "|BASE_CAREUNIT|\tCare unit of the patient before the transfer.|\n",
    "|SERVICEREQ|\tService requested for the callout (e.g., Surgery, Medicine).|\n",
    "|CALLOUT_REASON|\tReason for the callout (e.g., Transfer to ICU, Procedure Request).|\n",
    "CALLOUT_OUTCOME|\tOutcome of the callout (e.g., Executed, Canceled).|\n",
    "|DISCHARGE_WARDID|\tIdentifier for the ward where the patient was discharged after the callout.|\n",
    "|ACKNOWLEDGE_STATUS|\tStatus indicating whether the callout was acknowledged (e.g., Acknowledged, Unacknowledged).|\n",
    "|CREATETIME|\tTimestamp for when the callout was created.|\n",
    "|UPDATETIME|\tTimestamp for when the callout was last updated.|\n",
    "|ACKNOWLEDGETIME|\tTimestamp for when the callout was acknowledged (if applicable).|\n",
    "|OUTCOMETIME|\tTimestamp for when the callout outcome was determined.|\n",
    "|FIRSTRESERVATIONTIME|\tTimestamp for the first reservation time associated with the callout.|\n",
    "|CURRENTRESERVATIONTIME|\tTimestamp for the most recent reservation time associated with the callout.|\n"
   ]
  },
  {
   "cell_type": "markdown",
   "metadata": {},
   "source": []
  },
  {
   "cell_type": "markdown",
   "metadata": {},
   "source": [
    "## 3. CAREGIVERS.csv DATA INFORMTAION"
   ]
  },
  {
   "cell_type": "code",
   "execution_count": 29,
   "metadata": {},
   "outputs": [
    {
     "data": {
      "text/html": [
       "<div>\n",
       "<style scoped>\n",
       "    .dataframe tbody tr th:only-of-type {\n",
       "        vertical-align: middle;\n",
       "    }\n",
       "\n",
       "    .dataframe tbody tr th {\n",
       "        vertical-align: top;\n",
       "    }\n",
       "\n",
       "    .dataframe thead th {\n",
       "        text-align: right;\n",
       "    }\n",
       "</style>\n",
       "<table border=\"1\" class=\"dataframe\">\n",
       "  <thead>\n",
       "    <tr style=\"text-align: right;\">\n",
       "      <th></th>\n",
       "      <th>ROW_ID</th>\n",
       "      <th>CGID</th>\n",
       "      <th>LABEL</th>\n",
       "      <th>DESCRIPTION</th>\n",
       "    </tr>\n",
       "  </thead>\n",
       "  <tbody>\n",
       "    <tr>\n",
       "      <th>0</th>\n",
       "      <td>2228</td>\n",
       "      <td>16174</td>\n",
       "      <td>RO</td>\n",
       "      <td>Read Only</td>\n",
       "    </tr>\n",
       "    <tr>\n",
       "      <th>1</th>\n",
       "      <td>2229</td>\n",
       "      <td>16175</td>\n",
       "      <td>RO</td>\n",
       "      <td>Read Only</td>\n",
       "    </tr>\n",
       "    <tr>\n",
       "      <th>2</th>\n",
       "      <td>2230</td>\n",
       "      <td>16176</td>\n",
       "      <td>Res</td>\n",
       "      <td>Resident/Fellow/PA/NP</td>\n",
       "    </tr>\n",
       "    <tr>\n",
       "      <th>3</th>\n",
       "      <td>2231</td>\n",
       "      <td>16177</td>\n",
       "      <td>RO</td>\n",
       "      <td>Read Only</td>\n",
       "    </tr>\n",
       "    <tr>\n",
       "      <th>4</th>\n",
       "      <td>2232</td>\n",
       "      <td>16178</td>\n",
       "      <td>RT</td>\n",
       "      <td>Respiratory</td>\n",
       "    </tr>\n",
       "  </tbody>\n",
       "</table>\n",
       "</div>"
      ],
      "text/plain": [
       "   ROW_ID   CGID LABEL            DESCRIPTION\n",
       "0    2228  16174    RO              Read Only\n",
       "1    2229  16175    RO              Read Only\n",
       "2    2230  16176   Res  Resident/Fellow/PA/NP\n",
       "3    2231  16177    RO              Read Only\n",
       "4    2232  16178    RT            Respiratory"
      ]
     },
     "execution_count": 29,
     "metadata": {},
     "output_type": "execute_result"
    }
   ],
   "source": [
    "CAREGIVERS=pd.read_csv(r'D:\\Final_year_project\\final project dataset\\final project\\CAREGIVERS.csv')\n",
    "CAREGIVERS.head()"
   ]
  },
  {
   "cell_type": "code",
   "execution_count": 30,
   "metadata": {},
   "outputs": [
    {
     "data": {
      "text/plain": [
       "(7567, 4)"
      ]
     },
     "execution_count": 30,
     "metadata": {},
     "output_type": "execute_result"
    }
   ],
   "source": [
    "CAREGIVERS.shape"
   ]
  },
  {
   "cell_type": "markdown",
   "metadata": {},
   "source": [
    "Here’s the CAREGIVERS table description in tabular format:\n",
    "\n",
    "|Column Name |\tDescription|\n",
    "|------------------------|-------------------------------------------------------------------------------------------------------|\n",
    "|ROW_ID      |  Unique identifier for each row in the table (used for internal tracking).|\n",
    "|CGID        |\tUnique identifier for each caregiver (used as a foreign key in other tables).|\n",
    "|LABEL       |\tFree-text label describing the caregiver's role or designation (e.g., Nurse).|\n",
    "|DESCRIPTION |\tDetailed description of the caregiver's role or specialty (e.g., RN, Physician).|"
   ]
  },
  {
   "cell_type": "markdown",
   "metadata": {},
   "source": []
  },
  {
   "cell_type": "markdown",
   "metadata": {},
   "source": [
    "## 4. CPTEVENTS (2).csv DATA INFORMATION"
   ]
  },
  {
   "cell_type": "code",
   "execution_count": 31,
   "metadata": {},
   "outputs": [
    {
     "name": "stderr",
     "output_type": "stream",
     "text": [
      "C:\\Users\\NETRA\\AppData\\Local\\Temp\\ipykernel_12028\\1473851094.py:1: DtypeWarning: Columns (4,5,7,11) have mixed types. Specify dtype option on import or set low_memory=False.\n",
      "  CPTEVENTS=pd.read_csv(r'D:\\Final_year_project\\final project dataset\\final project\\CPTEVENTS.csv')\n"
     ]
    },
    {
     "data": {
      "text/html": [
       "<div>\n",
       "<style scoped>\n",
       "    .dataframe tbody tr th:only-of-type {\n",
       "        vertical-align: middle;\n",
       "    }\n",
       "\n",
       "    .dataframe tbody tr th {\n",
       "        vertical-align: top;\n",
       "    }\n",
       "\n",
       "    .dataframe thead th {\n",
       "        text-align: right;\n",
       "    }\n",
       "</style>\n",
       "<table border=\"1\" class=\"dataframe\">\n",
       "  <thead>\n",
       "    <tr style=\"text-align: right;\">\n",
       "      <th></th>\n",
       "      <th>ROW_ID</th>\n",
       "      <th>SUBJECT_ID</th>\n",
       "      <th>HADM_ID</th>\n",
       "      <th>COSTCENTER</th>\n",
       "      <th>CHARTDATE</th>\n",
       "      <th>CPT_CD</th>\n",
       "      <th>CPT_NUMBER</th>\n",
       "      <th>CPT_SUFFIX</th>\n",
       "      <th>TICKET_ID_SEQ</th>\n",
       "      <th>SECTIONHEADER</th>\n",
       "      <th>SUBSECTIONHEADER</th>\n",
       "      <th>DESCRIPTION</th>\n",
       "    </tr>\n",
       "  </thead>\n",
       "  <tbody>\n",
       "    <tr>\n",
       "      <th>0</th>\n",
       "      <td>317</td>\n",
       "      <td>11743</td>\n",
       "      <td>129545</td>\n",
       "      <td>ICU</td>\n",
       "      <td>NaN</td>\n",
       "      <td>99232</td>\n",
       "      <td>99232.0</td>\n",
       "      <td>NaN</td>\n",
       "      <td>6.0</td>\n",
       "      <td>Evaluation and management</td>\n",
       "      <td>Hospital inpatient services</td>\n",
       "      <td>NaN</td>\n",
       "    </tr>\n",
       "    <tr>\n",
       "      <th>1</th>\n",
       "      <td>318</td>\n",
       "      <td>11743</td>\n",
       "      <td>129545</td>\n",
       "      <td>ICU</td>\n",
       "      <td>NaN</td>\n",
       "      <td>99232</td>\n",
       "      <td>99232.0</td>\n",
       "      <td>NaN</td>\n",
       "      <td>7.0</td>\n",
       "      <td>Evaluation and management</td>\n",
       "      <td>Hospital inpatient services</td>\n",
       "      <td>NaN</td>\n",
       "    </tr>\n",
       "    <tr>\n",
       "      <th>2</th>\n",
       "      <td>319</td>\n",
       "      <td>11743</td>\n",
       "      <td>129545</td>\n",
       "      <td>ICU</td>\n",
       "      <td>NaN</td>\n",
       "      <td>99232</td>\n",
       "      <td>99232.0</td>\n",
       "      <td>NaN</td>\n",
       "      <td>8.0</td>\n",
       "      <td>Evaluation and management</td>\n",
       "      <td>Hospital inpatient services</td>\n",
       "      <td>NaN</td>\n",
       "    </tr>\n",
       "    <tr>\n",
       "      <th>3</th>\n",
       "      <td>320</td>\n",
       "      <td>11743</td>\n",
       "      <td>129545</td>\n",
       "      <td>ICU</td>\n",
       "      <td>NaN</td>\n",
       "      <td>99232</td>\n",
       "      <td>99232.0</td>\n",
       "      <td>NaN</td>\n",
       "      <td>9.0</td>\n",
       "      <td>Evaluation and management</td>\n",
       "      <td>Hospital inpatient services</td>\n",
       "      <td>NaN</td>\n",
       "    </tr>\n",
       "    <tr>\n",
       "      <th>4</th>\n",
       "      <td>321</td>\n",
       "      <td>6185</td>\n",
       "      <td>183725</td>\n",
       "      <td>ICU</td>\n",
       "      <td>NaN</td>\n",
       "      <td>99223</td>\n",
       "      <td>99223.0</td>\n",
       "      <td>NaN</td>\n",
       "      <td>1.0</td>\n",
       "      <td>Evaluation and management</td>\n",
       "      <td>Hospital inpatient services</td>\n",
       "      <td>NaN</td>\n",
       "    </tr>\n",
       "  </tbody>\n",
       "</table>\n",
       "</div>"
      ],
      "text/plain": [
       "   ROW_ID  SUBJECT_ID  HADM_ID COSTCENTER CHARTDATE CPT_CD  CPT_NUMBER  \\\n",
       "0     317       11743   129545        ICU       NaN  99232     99232.0   \n",
       "1     318       11743   129545        ICU       NaN  99232     99232.0   \n",
       "2     319       11743   129545        ICU       NaN  99232     99232.0   \n",
       "3     320       11743   129545        ICU       NaN  99232     99232.0   \n",
       "4     321        6185   183725        ICU       NaN  99223     99223.0   \n",
       "\n",
       "  CPT_SUFFIX  TICKET_ID_SEQ              SECTIONHEADER  \\\n",
       "0        NaN            6.0  Evaluation and management   \n",
       "1        NaN            7.0  Evaluation and management   \n",
       "2        NaN            8.0  Evaluation and management   \n",
       "3        NaN            9.0  Evaluation and management   \n",
       "4        NaN            1.0  Evaluation and management   \n",
       "\n",
       "              SUBSECTIONHEADER DESCRIPTION  \n",
       "0  Hospital inpatient services         NaN  \n",
       "1  Hospital inpatient services         NaN  \n",
       "2  Hospital inpatient services         NaN  \n",
       "3  Hospital inpatient services         NaN  \n",
       "4  Hospital inpatient services         NaN  "
      ]
     },
     "execution_count": 31,
     "metadata": {},
     "output_type": "execute_result"
    }
   ],
   "source": [
    "CPTEVENTS=pd.read_csv(r'D:\\Final_year_project\\final project dataset\\final project\\CPTEVENTS.csv')\n",
    "CPTEVENTS.head()"
   ]
  },
  {
   "cell_type": "code",
   "execution_count": 32,
   "metadata": {},
   "outputs": [
    {
     "data": {
      "text/plain": [
       "(573146, 12)"
      ]
     },
     "execution_count": 32,
     "metadata": {},
     "output_type": "execute_result"
    }
   ],
   "source": [
    "CPTEVENTS.shape"
   ]
  },
  {
   "cell_type": "markdown",
   "metadata": {},
   "source": [
    "Here’s the CPTEVENTS table description in tabular format:\n",
    "\n",
    "|**Column Name**\t|**Description**|\n",
    "|------------------------|-------------------------------------------------------------------------------------------------------|\n",
    "|ROW_ID|\tUnique identifier for each row in the table (used for internal tracking).|\n",
    "|SUBJECT_ID|\tIdentifier for the patient associated with the event (links to the PATIENTS table).|\n",
    "|HADM_ID|\tIdentifier for the hospital admission associated with the event (links to the ADMISSIONS table).|\n",
    "|COSTCENTER|\tDepartment or cost center responsible for the procedure or event (e.g., LABORATORY, RADIOLOGY).|\n",
    "|CHARTDATE|\tDate on which the procedure or event was recorded.|\n",
    "|CPT_CD|\tCurrent Procedural Terminology (CPT) code for the procedure or event.|\n",
    "|CPT_NUMBER|\tA numeric representation of the CPT code (used for internal mapping).|\n",
    "|CPT_SUFFIX|\tSuffix associated with the CPT code, providing additional detail about the procedure (if applicable).|\n",
    "|TICKET_ID_SEQ|\tSequence number of the ticket or order associated with the procedure.|\n",
    "|SECTIONHEADER|\tHigh-level category of the CPT code (e.g., SURGERY, IMAGING).|\n",
    "|SUBSECTIONHEADER|\tSub-category providing more specific context for the CPT code (e.g., ABDOMINAL SURGERY).|\n",
    "|DESCRIPTION|\tFree-text description of the procedure or event (e.g., Chest X-Ray, Blood Draw).|"
   ]
  },
  {
   "cell_type": "markdown",
   "metadata": {},
   "source": []
  },
  {
   "cell_type": "markdown",
   "metadata": {},
   "source": [
    "## 5. D-CPT.csv DATA INFORMATION"
   ]
  },
  {
   "cell_type": "code",
   "execution_count": 33,
   "metadata": {},
   "outputs": [
    {
     "data": {
      "text/html": [
       "<div>\n",
       "<style scoped>\n",
       "    .dataframe tbody tr th:only-of-type {\n",
       "        vertical-align: middle;\n",
       "    }\n",
       "\n",
       "    .dataframe tbody tr th {\n",
       "        vertical-align: top;\n",
       "    }\n",
       "\n",
       "    .dataframe thead th {\n",
       "        text-align: right;\n",
       "    }\n",
       "</style>\n",
       "<table border=\"1\" class=\"dataframe\">\n",
       "  <thead>\n",
       "    <tr style=\"text-align: right;\">\n",
       "      <th></th>\n",
       "      <th>ROW_ID</th>\n",
       "      <th>CATEGORY</th>\n",
       "      <th>SECTIONRANGE</th>\n",
       "      <th>SECTIONHEADER</th>\n",
       "      <th>SUBSECTIONRANGE</th>\n",
       "      <th>SUBSECTIONHEADER</th>\n",
       "      <th>CODESUFFIX</th>\n",
       "      <th>MINCODEINSUBSECTION</th>\n",
       "      <th>MAXCODEINSUBSECTION</th>\n",
       "    </tr>\n",
       "  </thead>\n",
       "  <tbody>\n",
       "    <tr>\n",
       "      <th>0</th>\n",
       "      <td>1</td>\n",
       "      <td>1</td>\n",
       "      <td>99201-99499</td>\n",
       "      <td>Evaluation and management</td>\n",
       "      <td>99201-99216</td>\n",
       "      <td>Office/other outpatient services</td>\n",
       "      <td>NaN</td>\n",
       "      <td>99201</td>\n",
       "      <td>99216</td>\n",
       "    </tr>\n",
       "    <tr>\n",
       "      <th>1</th>\n",
       "      <td>2</td>\n",
       "      <td>1</td>\n",
       "      <td>99201-99499</td>\n",
       "      <td>Evaluation and management</td>\n",
       "      <td>99217-99220</td>\n",
       "      <td>Hospital observation services</td>\n",
       "      <td>NaN</td>\n",
       "      <td>99217</td>\n",
       "      <td>99220</td>\n",
       "    </tr>\n",
       "    <tr>\n",
       "      <th>2</th>\n",
       "      <td>3</td>\n",
       "      <td>1</td>\n",
       "      <td>99201-99499</td>\n",
       "      <td>Evaluation and management</td>\n",
       "      <td>99221-99239</td>\n",
       "      <td>Hospital inpatient services</td>\n",
       "      <td>NaN</td>\n",
       "      <td>99221</td>\n",
       "      <td>99239</td>\n",
       "    </tr>\n",
       "    <tr>\n",
       "      <th>3</th>\n",
       "      <td>4</td>\n",
       "      <td>1</td>\n",
       "      <td>99201-99499</td>\n",
       "      <td>Evaluation and management</td>\n",
       "      <td>99241-99255</td>\n",
       "      <td>Consultations</td>\n",
       "      <td>NaN</td>\n",
       "      <td>99241</td>\n",
       "      <td>99255</td>\n",
       "    </tr>\n",
       "    <tr>\n",
       "      <th>4</th>\n",
       "      <td>5</td>\n",
       "      <td>1</td>\n",
       "      <td>99201-99499</td>\n",
       "      <td>Evaluation and management</td>\n",
       "      <td>99261-99263</td>\n",
       "      <td>Follow-up inpatient consultations (deleted codes)</td>\n",
       "      <td>NaN</td>\n",
       "      <td>99261</td>\n",
       "      <td>99263</td>\n",
       "    </tr>\n",
       "  </tbody>\n",
       "</table>\n",
       "</div>"
      ],
      "text/plain": [
       "   ROW_ID  CATEGORY SECTIONRANGE              SECTIONHEADER SUBSECTIONRANGE  \\\n",
       "0       1         1  99201-99499  Evaluation and management     99201-99216   \n",
       "1       2         1  99201-99499  Evaluation and management     99217-99220   \n",
       "2       3         1  99201-99499  Evaluation and management     99221-99239   \n",
       "3       4         1  99201-99499  Evaluation and management     99241-99255   \n",
       "4       5         1  99201-99499  Evaluation and management     99261-99263   \n",
       "\n",
       "                                    SUBSECTIONHEADER CODESUFFIX  \\\n",
       "0                   Office/other outpatient services        NaN   \n",
       "1                      Hospital observation services        NaN   \n",
       "2                        Hospital inpatient services        NaN   \n",
       "3                                      Consultations        NaN   \n",
       "4  Follow-up inpatient consultations (deleted codes)        NaN   \n",
       "\n",
       "   MINCODEINSUBSECTION  MAXCODEINSUBSECTION  \n",
       "0                99201                99216  \n",
       "1                99217                99220  \n",
       "2                99221                99239  \n",
       "3                99241                99255  \n",
       "4                99261                99263  "
      ]
     },
     "execution_count": 33,
     "metadata": {},
     "output_type": "execute_result"
    }
   ],
   "source": [
    "D_CPT=pd.read_csv(r'D:\\Final_year_project\\final project dataset\\final project\\D_CPT.csv')\n",
    "D_CPT.head()"
   ]
  },
  {
   "cell_type": "code",
   "execution_count": 34,
   "metadata": {},
   "outputs": [
    {
     "data": {
      "text/plain": [
       "(134, 9)"
      ]
     },
     "execution_count": 34,
     "metadata": {},
     "output_type": "execute_result"
    }
   ],
   "source": [
    "D_CPT.shape"
   ]
  },
  {
   "cell_type": "markdown",
   "metadata": {},
   "source": [
    "Here’s the D_CPT table description in tabular format:\n",
    "\n",
    "|Column Name|\tDescription|\n",
    "|------------------------|-------------------------------------------------------------------------------------------------------|\n",
    "|ROW_ID\t|Unique identifier for each row in the table (used for internal tracking).|\n",
    "|CATEGORY\t|Broad category of the CPT code (e.g., Radiology, Surgery).|\n",
    "|SECTIONRANGE|\tRange of CPT codes that fall within the specific section (e.g., 10000-19999 for Surgery).|\n",
    "|SECTIONHEADER\t|High-level category name of the CPT section (e.g., SURGERY, MEDICINE).|\n",
    "|SUBSECTIONHEADER|\tMore specific sub-category name within the CPT section (e.g., CARDIOVASCULAR SURGERY).|\n",
    "|CODESUFFIX\t|Suffix for the CPT code, providing additional detail about the procedure (if applicable).|\n",
    "|MINCODEINSUBSECTION|\tSmallest CPT code within the subsection.|\n",
    "|MAXCODEINSUBSECTION\t|Largest CPT code within the subsection.|\n",
    "|CATEGORYDESCRIPTION\t|Description of the category of CPT codes (e.g., \"Procedures involving the chest and thorax\").|"
   ]
  },
  {
   "cell_type": "markdown",
   "metadata": {},
   "source": []
  },
  {
   "cell_type": "markdown",
   "metadata": {},
   "source": [
    "## 6. D_ICD_DIAGNOSES.csv DATA INFORMATION"
   ]
  },
  {
   "cell_type": "code",
   "execution_count": 35,
   "metadata": {},
   "outputs": [
    {
     "data": {
      "text/html": [
       "<div>\n",
       "<style scoped>\n",
       "    .dataframe tbody tr th:only-of-type {\n",
       "        vertical-align: middle;\n",
       "    }\n",
       "\n",
       "    .dataframe tbody tr th {\n",
       "        vertical-align: top;\n",
       "    }\n",
       "\n",
       "    .dataframe thead th {\n",
       "        text-align: right;\n",
       "    }\n",
       "</style>\n",
       "<table border=\"1\" class=\"dataframe\">\n",
       "  <thead>\n",
       "    <tr style=\"text-align: right;\">\n",
       "      <th></th>\n",
       "      <th>ROW_ID</th>\n",
       "      <th>ICD9_CODE</th>\n",
       "      <th>SHORT_TITLE</th>\n",
       "      <th>LONG_TITLE</th>\n",
       "    </tr>\n",
       "  </thead>\n",
       "  <tbody>\n",
       "    <tr>\n",
       "      <th>0</th>\n",
       "      <td>174</td>\n",
       "      <td>1166</td>\n",
       "      <td>TB pneumonia-oth test</td>\n",
       "      <td>Tuberculous pneumonia [any form], tubercle bac...</td>\n",
       "    </tr>\n",
       "    <tr>\n",
       "      <th>1</th>\n",
       "      <td>175</td>\n",
       "      <td>1170</td>\n",
       "      <td>TB pneumothorax-unspec</td>\n",
       "      <td>Tuberculous pneumothorax, unspecified</td>\n",
       "    </tr>\n",
       "    <tr>\n",
       "      <th>2</th>\n",
       "      <td>176</td>\n",
       "      <td>1171</td>\n",
       "      <td>TB pneumothorax-no exam</td>\n",
       "      <td>Tuberculous pneumothorax, bacteriological or h...</td>\n",
       "    </tr>\n",
       "    <tr>\n",
       "      <th>3</th>\n",
       "      <td>177</td>\n",
       "      <td>1172</td>\n",
       "      <td>TB pneumothorx-exam unkn</td>\n",
       "      <td>Tuberculous pneumothorax, bacteriological or h...</td>\n",
       "    </tr>\n",
       "    <tr>\n",
       "      <th>4</th>\n",
       "      <td>178</td>\n",
       "      <td>1173</td>\n",
       "      <td>TB pneumothorax-micro dx</td>\n",
       "      <td>Tuberculous pneumothorax, tubercle bacilli fou...</td>\n",
       "    </tr>\n",
       "  </tbody>\n",
       "</table>\n",
       "</div>"
      ],
      "text/plain": [
       "   ROW_ID ICD9_CODE               SHORT_TITLE  \\\n",
       "0     174      1166     TB pneumonia-oth test   \n",
       "1     175      1170    TB pneumothorax-unspec   \n",
       "2     176      1171   TB pneumothorax-no exam   \n",
       "3     177      1172  TB pneumothorx-exam unkn   \n",
       "4     178      1173  TB pneumothorax-micro dx   \n",
       "\n",
       "                                          LONG_TITLE  \n",
       "0  Tuberculous pneumonia [any form], tubercle bac...  \n",
       "1              Tuberculous pneumothorax, unspecified  \n",
       "2  Tuberculous pneumothorax, bacteriological or h...  \n",
       "3  Tuberculous pneumothorax, bacteriological or h...  \n",
       "4  Tuberculous pneumothorax, tubercle bacilli fou...  "
      ]
     },
     "execution_count": 35,
     "metadata": {},
     "output_type": "execute_result"
    }
   ],
   "source": [
    "D_ICD_DIAGNOSES=pd.read_csv(r'D:\\Final_year_project\\final project dataset\\final project\\D_ICD_DIAGNOSIS.csv')\n",
    "D_ICD_DIAGNOSES.head()"
   ]
  },
  {
   "cell_type": "code",
   "execution_count": 36,
   "metadata": {},
   "outputs": [
    {
     "data": {
      "text/plain": [
       "(14567, 4)"
      ]
     },
     "execution_count": 36,
     "metadata": {},
     "output_type": "execute_result"
    }
   ],
   "source": [
    "D_ICD_DIAGNOSES.shape"
   ]
  },
  {
   "cell_type": "markdown",
   "metadata": {},
   "source": [
    "Here’s the D_ICD_DIAGNOSES table description in tabular format:\n",
    "\n",
    "|Column Name|\tDescription|\n",
    "|------------------------|-------------------------------------------------------------------------------------------------------|\n",
    "|ROW_ID|\tUnique identifier for each row in the table (used for internal tracking).|\n",
    "|ICD9_CODE|\tICD-9 (International Classification of Diseases, 9th Revision) code for the diagnosis.|\n",
    "|SHORT_TITLE|\tAbbreviated description of the diagnosis associated with the ICD-9 code.|\n",
    "|LONG_TITLE|\tFull descriptive title of the diagnosis associated with the ICD-9 code.|"
   ]
  },
  {
   "cell_type": "markdown",
   "metadata": {},
   "source": []
  },
  {
   "cell_type": "markdown",
   "metadata": {},
   "source": [
    "## 7.D_ICD_PROCEDURES.csv DATA INFORMATION"
   ]
  },
  {
   "cell_type": "code",
   "execution_count": 37,
   "metadata": {},
   "outputs": [
    {
     "data": {
      "text/html": [
       "<div>\n",
       "<style scoped>\n",
       "    .dataframe tbody tr th:only-of-type {\n",
       "        vertical-align: middle;\n",
       "    }\n",
       "\n",
       "    .dataframe tbody tr th {\n",
       "        vertical-align: top;\n",
       "    }\n",
       "\n",
       "    .dataframe thead th {\n",
       "        text-align: right;\n",
       "    }\n",
       "</style>\n",
       "<table border=\"1\" class=\"dataframe\">\n",
       "  <thead>\n",
       "    <tr style=\"text-align: right;\">\n",
       "      <th></th>\n",
       "      <th>ROW_ID</th>\n",
       "      <th>ICD9_CODE</th>\n",
       "      <th>SHORT_TITLE</th>\n",
       "      <th>LONG_TITLE</th>\n",
       "    </tr>\n",
       "  </thead>\n",
       "  <tbody>\n",
       "    <tr>\n",
       "      <th>0</th>\n",
       "      <td>264</td>\n",
       "      <td>851</td>\n",
       "      <td>Canthotomy</td>\n",
       "      <td>Canthotomy</td>\n",
       "    </tr>\n",
       "    <tr>\n",
       "      <th>1</th>\n",
       "      <td>265</td>\n",
       "      <td>852</td>\n",
       "      <td>Blepharorrhaphy</td>\n",
       "      <td>Blepharorrhaphy</td>\n",
       "    </tr>\n",
       "    <tr>\n",
       "      <th>2</th>\n",
       "      <td>266</td>\n",
       "      <td>859</td>\n",
       "      <td>Adjust lid position NEC</td>\n",
       "      <td>Other adjustment of lid position</td>\n",
       "    </tr>\n",
       "    <tr>\n",
       "      <th>3</th>\n",
       "      <td>267</td>\n",
       "      <td>861</td>\n",
       "      <td>Lid reconst w skin graft</td>\n",
       "      <td>Reconstruction of eyelid with skin flap or graft</td>\n",
       "    </tr>\n",
       "    <tr>\n",
       "      <th>4</th>\n",
       "      <td>268</td>\n",
       "      <td>862</td>\n",
       "      <td>Lid reconst w muc graft</td>\n",
       "      <td>Reconstruction of eyelid with mucous membrane ...</td>\n",
       "    </tr>\n",
       "  </tbody>\n",
       "</table>\n",
       "</div>"
      ],
      "text/plain": [
       "   ROW_ID  ICD9_CODE               SHORT_TITLE  \\\n",
       "0     264        851                Canthotomy   \n",
       "1     265        852           Blepharorrhaphy   \n",
       "2     266        859   Adjust lid position NEC   \n",
       "3     267        861  Lid reconst w skin graft   \n",
       "4     268        862   Lid reconst w muc graft   \n",
       "\n",
       "                                          LONG_TITLE  \n",
       "0                                         Canthotomy  \n",
       "1                                    Blepharorrhaphy  \n",
       "2                   Other adjustment of lid position  \n",
       "3   Reconstruction of eyelid with skin flap or graft  \n",
       "4  Reconstruction of eyelid with mucous membrane ...  "
      ]
     },
     "execution_count": 37,
     "metadata": {},
     "output_type": "execute_result"
    }
   ],
   "source": [
    "D_ICD_PROCEDURES=pd.read_csv(r'D:\\Final_year_project\\final project dataset\\final project\\D_ICD_PROCEDURES.csv')\n",
    "D_ICD_PROCEDURES.head()"
   ]
  },
  {
   "cell_type": "code",
   "execution_count": 38,
   "metadata": {},
   "outputs": [
    {
     "data": {
      "text/plain": [
       "(3882, 4)"
      ]
     },
     "execution_count": 38,
     "metadata": {},
     "output_type": "execute_result"
    }
   ],
   "source": [
    "D_ICD_PROCEDURES.shape"
   ]
  },
  {
   "cell_type": "markdown",
   "metadata": {},
   "source": [
    "Here’s the D_ICD_PROCEDURES table description in tabular format:\n",
    "\n",
    "|Column Name|\tDescription|\n",
    "|------------------------|-------------------------------------------------------------------------------------------------------|\n",
    "|ROW_ID|\tUnique identifier for each row in the table (used for internal tracking).|\n",
    "|ICD9_CODE|\tICD-9 (International Classification of Diseases, 9th Revision) code for the procedure.|\n",
    "|SHORT_TITLE|\tAbbreviated description of the procedure associated with the ICD-9 code.|\n",
    "|LONG_TITLE|\tFull descriptive title of the procedure associated with the ICD-9 code."
   ]
  },
  {
   "cell_type": "markdown",
   "metadata": {},
   "source": []
  },
  {
   "cell_type": "markdown",
   "metadata": {},
   "source": [
    "## 8. D_ITEMS.csv DATA INFORMATION"
   ]
  },
  {
   "cell_type": "code",
   "execution_count": 39,
   "metadata": {},
   "outputs": [
    {
     "data": {
      "text/html": [
       "<div>\n",
       "<style scoped>\n",
       "    .dataframe tbody tr th:only-of-type {\n",
       "        vertical-align: middle;\n",
       "    }\n",
       "\n",
       "    .dataframe tbody tr th {\n",
       "        vertical-align: top;\n",
       "    }\n",
       "\n",
       "    .dataframe thead th {\n",
       "        text-align: right;\n",
       "    }\n",
       "</style>\n",
       "<table border=\"1\" class=\"dataframe\">\n",
       "  <thead>\n",
       "    <tr style=\"text-align: right;\">\n",
       "      <th></th>\n",
       "      <th>ROW_ID</th>\n",
       "      <th>ITEMID</th>\n",
       "      <th>LABEL</th>\n",
       "      <th>ABBREVIATION</th>\n",
       "      <th>DBSOURCE</th>\n",
       "      <th>LINKSTO</th>\n",
       "      <th>CATEGORY</th>\n",
       "      <th>UNITNAME</th>\n",
       "      <th>PARAM_TYPE</th>\n",
       "      <th>CONCEPTID</th>\n",
       "    </tr>\n",
       "  </thead>\n",
       "  <tbody>\n",
       "    <tr>\n",
       "      <th>0</th>\n",
       "      <td>457</td>\n",
       "      <td>497</td>\n",
       "      <td>Patient controlled analgesia (PCA) [Inject]</td>\n",
       "      <td>NaN</td>\n",
       "      <td>carevue</td>\n",
       "      <td>chartevents</td>\n",
       "      <td>NaN</td>\n",
       "      <td>NaN</td>\n",
       "      <td>NaN</td>\n",
       "      <td>NaN</td>\n",
       "    </tr>\n",
       "    <tr>\n",
       "      <th>1</th>\n",
       "      <td>458</td>\n",
       "      <td>498</td>\n",
       "      <td>PCA Lockout (Min)</td>\n",
       "      <td>NaN</td>\n",
       "      <td>carevue</td>\n",
       "      <td>chartevents</td>\n",
       "      <td>NaN</td>\n",
       "      <td>NaN</td>\n",
       "      <td>NaN</td>\n",
       "      <td>NaN</td>\n",
       "    </tr>\n",
       "    <tr>\n",
       "      <th>2</th>\n",
       "      <td>459</td>\n",
       "      <td>499</td>\n",
       "      <td>PCA Medication</td>\n",
       "      <td>NaN</td>\n",
       "      <td>carevue</td>\n",
       "      <td>chartevents</td>\n",
       "      <td>NaN</td>\n",
       "      <td>NaN</td>\n",
       "      <td>NaN</td>\n",
       "      <td>NaN</td>\n",
       "    </tr>\n",
       "    <tr>\n",
       "      <th>3</th>\n",
       "      <td>460</td>\n",
       "      <td>500</td>\n",
       "      <td>PCA Total Dose</td>\n",
       "      <td>NaN</td>\n",
       "      <td>carevue</td>\n",
       "      <td>chartevents</td>\n",
       "      <td>NaN</td>\n",
       "      <td>NaN</td>\n",
       "      <td>NaN</td>\n",
       "      <td>NaN</td>\n",
       "    </tr>\n",
       "    <tr>\n",
       "      <th>4</th>\n",
       "      <td>461</td>\n",
       "      <td>501</td>\n",
       "      <td>PCV Exh Vt (Obser)</td>\n",
       "      <td>NaN</td>\n",
       "      <td>carevue</td>\n",
       "      <td>chartevents</td>\n",
       "      <td>NaN</td>\n",
       "      <td>NaN</td>\n",
       "      <td>NaN</td>\n",
       "      <td>NaN</td>\n",
       "    </tr>\n",
       "  </tbody>\n",
       "</table>\n",
       "</div>"
      ],
      "text/plain": [
       "   ROW_ID  ITEMID                                        LABEL ABBREVIATION  \\\n",
       "0     457     497  Patient controlled analgesia (PCA) [Inject]          NaN   \n",
       "1     458     498                            PCA Lockout (Min)          NaN   \n",
       "2     459     499                               PCA Medication          NaN   \n",
       "3     460     500                               PCA Total Dose          NaN   \n",
       "4     461     501                           PCV Exh Vt (Obser)          NaN   \n",
       "\n",
       "  DBSOURCE      LINKSTO CATEGORY UNITNAME PARAM_TYPE  CONCEPTID  \n",
       "0  carevue  chartevents      NaN      NaN        NaN        NaN  \n",
       "1  carevue  chartevents      NaN      NaN        NaN        NaN  \n",
       "2  carevue  chartevents      NaN      NaN        NaN        NaN  \n",
       "3  carevue  chartevents      NaN      NaN        NaN        NaN  \n",
       "4  carevue  chartevents      NaN      NaN        NaN        NaN  "
      ]
     },
     "execution_count": 39,
     "metadata": {},
     "output_type": "execute_result"
    }
   ],
   "source": [
    "D_ITEMS=pd.read_csv(r'D:\\Final_year_project\\final project dataset\\final project\\D_ITEMS.csv')\n",
    "D_ITEMS.head()"
   ]
  },
  {
   "cell_type": "code",
   "execution_count": 40,
   "metadata": {},
   "outputs": [
    {
     "data": {
      "text/plain": [
       "(12487, 10)"
      ]
     },
     "execution_count": 40,
     "metadata": {},
     "output_type": "execute_result"
    }
   ],
   "source": [
    "D_ITEMS.shape"
   ]
  },
  {
   "cell_type": "markdown",
   "metadata": {},
   "source": [
    "\n",
    "Here’s the D_ITEMS table description in tabular format:\n",
    "\n",
    "|**Column Name**|\t**Description**|\n",
    "|------------------------|-------------------------------------------------------------------------------------------------------|\n",
    "|ITEMID\t|Unique identifier for each item (e.g., laboratory test, medication, observation) in the dataset.|\n",
    "|LABEL|\tName or description of the item (e.g., \"Blood Pressure\", \"Sodium Level\", \"Morphine\").|\n",
    "|CATEGORY|\tBroad category to which the item belongs (e.g., \"Vitals\", \"Laboratory\", \"Medications\").|\n",
    "|LOINC_CODE|\tLOINC (Logical Observation Identifiers Names and Codes) code for the item, if applicable.|\n",
    "|CHARTTIME|\tTimestamp for when the item was recorded, usually linked to patient observations or lab results.|\n",
    "|HADM_ID|\tIdentifier for the hospital admission associated with the item (foreign key to ADMISSIONS table).|\n",
    "|SUBJECT_ID\t|Identifier for the patient associated with the item (foreign key to PATIENTS table).|"
   ]
  },
  {
   "cell_type": "markdown",
   "metadata": {},
   "source": []
  },
  {
   "cell_type": "markdown",
   "metadata": {},
   "source": [
    "## 9. DATETIMEEVENTS.csv DATA INFORMATION"
   ]
  },
  {
   "cell_type": "code",
   "execution_count": 41,
   "metadata": {},
   "outputs": [
    {
     "data": {
      "text/html": [
       "<div>\n",
       "<style scoped>\n",
       "    .dataframe tbody tr th:only-of-type {\n",
       "        vertical-align: middle;\n",
       "    }\n",
       "\n",
       "    .dataframe tbody tr th {\n",
       "        vertical-align: top;\n",
       "    }\n",
       "\n",
       "    .dataframe thead th {\n",
       "        text-align: right;\n",
       "    }\n",
       "</style>\n",
       "<table border=\"1\" class=\"dataframe\">\n",
       "  <thead>\n",
       "    <tr style=\"text-align: right;\">\n",
       "      <th></th>\n",
       "      <th>row_id</th>\n",
       "      <th>subject_id</th>\n",
       "      <th>hadm_id</th>\n",
       "      <th>icustay_id</th>\n",
       "      <th>itemid</th>\n",
       "      <th>charttime</th>\n",
       "      <th>storetime</th>\n",
       "      <th>cgid</th>\n",
       "      <th>value</th>\n",
       "      <th>valueuom</th>\n",
       "      <th>warning</th>\n",
       "      <th>error</th>\n",
       "      <th>resultstatus</th>\n",
       "      <th>stopped</th>\n",
       "    </tr>\n",
       "  </thead>\n",
       "  <tbody>\n",
       "    <tr>\n",
       "      <th>0</th>\n",
       "      <td>208474</td>\n",
       "      <td>10076</td>\n",
       "      <td>198503</td>\n",
       "      <td>201006.0</td>\n",
       "      <td>5684</td>\n",
       "      <td>2107-03-25 04:00:00</td>\n",
       "      <td>2107-03-25 04:34:00</td>\n",
       "      <td>20482</td>\n",
       "      <td>2107-03-24 00:00:00</td>\n",
       "      <td>Date</td>\n",
       "      <td>NaN</td>\n",
       "      <td>NaN</td>\n",
       "      <td>NaN</td>\n",
       "      <td>NotStopd</td>\n",
       "    </tr>\n",
       "    <tr>\n",
       "      <th>1</th>\n",
       "      <td>208475</td>\n",
       "      <td>10076</td>\n",
       "      <td>198503</td>\n",
       "      <td>201006.0</td>\n",
       "      <td>5684</td>\n",
       "      <td>2107-03-25 07:00:00</td>\n",
       "      <td>2107-03-25 07:06:00</td>\n",
       "      <td>15004</td>\n",
       "      <td>2107-03-24 00:00:00</td>\n",
       "      <td>Date</td>\n",
       "      <td>NaN</td>\n",
       "      <td>NaN</td>\n",
       "      <td>NaN</td>\n",
       "      <td>NotStopd</td>\n",
       "    </tr>\n",
       "    <tr>\n",
       "      <th>2</th>\n",
       "      <td>208836</td>\n",
       "      <td>10076</td>\n",
       "      <td>198503</td>\n",
       "      <td>201006.0</td>\n",
       "      <td>5684</td>\n",
       "      <td>2107-03-26 04:00:00</td>\n",
       "      <td>2107-03-26 05:31:00</td>\n",
       "      <td>20834</td>\n",
       "      <td>2107-03-24 00:00:00</td>\n",
       "      <td>Date</td>\n",
       "      <td>NaN</td>\n",
       "      <td>NaN</td>\n",
       "      <td>NaN</td>\n",
       "      <td>NotStopd</td>\n",
       "    </tr>\n",
       "    <tr>\n",
       "      <th>3</th>\n",
       "      <td>208837</td>\n",
       "      <td>10076</td>\n",
       "      <td>198503</td>\n",
       "      <td>201006.0</td>\n",
       "      <td>5684</td>\n",
       "      <td>2107-03-26 08:00:00</td>\n",
       "      <td>2107-03-26 08:33:00</td>\n",
       "      <td>17480</td>\n",
       "      <td>2107-03-24 00:00:00</td>\n",
       "      <td>Date</td>\n",
       "      <td>NaN</td>\n",
       "      <td>NaN</td>\n",
       "      <td>NaN</td>\n",
       "      <td>NotStopd</td>\n",
       "    </tr>\n",
       "    <tr>\n",
       "      <th>4</th>\n",
       "      <td>208838</td>\n",
       "      <td>10076</td>\n",
       "      <td>198503</td>\n",
       "      <td>201006.0</td>\n",
       "      <td>5684</td>\n",
       "      <td>2107-03-26 16:00:00</td>\n",
       "      <td>2107-03-26 16:08:00</td>\n",
       "      <td>17480</td>\n",
       "      <td>2107-03-24 00:00:00</td>\n",
       "      <td>Date</td>\n",
       "      <td>NaN</td>\n",
       "      <td>NaN</td>\n",
       "      <td>NaN</td>\n",
       "      <td>NotStopd</td>\n",
       "    </tr>\n",
       "  </tbody>\n",
       "</table>\n",
       "</div>"
      ],
      "text/plain": [
       "   row_id  subject_id  hadm_id  icustay_id  itemid            charttime  \\\n",
       "0  208474       10076   198503    201006.0    5684  2107-03-25 04:00:00   \n",
       "1  208475       10076   198503    201006.0    5684  2107-03-25 07:00:00   \n",
       "2  208836       10076   198503    201006.0    5684  2107-03-26 04:00:00   \n",
       "3  208837       10076   198503    201006.0    5684  2107-03-26 08:00:00   \n",
       "4  208838       10076   198503    201006.0    5684  2107-03-26 16:00:00   \n",
       "\n",
       "             storetime   cgid                value valueuom  warning  error  \\\n",
       "0  2107-03-25 04:34:00  20482  2107-03-24 00:00:00     Date      NaN    NaN   \n",
       "1  2107-03-25 07:06:00  15004  2107-03-24 00:00:00     Date      NaN    NaN   \n",
       "2  2107-03-26 05:31:00  20834  2107-03-24 00:00:00     Date      NaN    NaN   \n",
       "3  2107-03-26 08:33:00  17480  2107-03-24 00:00:00     Date      NaN    NaN   \n",
       "4  2107-03-26 16:08:00  17480  2107-03-24 00:00:00     Date      NaN    NaN   \n",
       "\n",
       "   resultstatus   stopped  \n",
       "0           NaN  NotStopd  \n",
       "1           NaN  NotStopd  \n",
       "2           NaN  NotStopd  \n",
       "3           NaN  NotStopd  \n",
       "4           NaN  NotStopd  "
      ]
     },
     "execution_count": 41,
     "metadata": {},
     "output_type": "execute_result"
    }
   ],
   "source": [
    "DATETIMEEVENTS=pd.read_csv(r'D:\\Final_year_project\\final project dataset\\final project\\DATETIMEEVENTS.csv')\n",
    "DATETIMEEVENTS.head()"
   ]
  },
  {
   "cell_type": "code",
   "execution_count": 42,
   "metadata": {},
   "outputs": [
    {
     "data": {
      "text/plain": [
       "(15551, 14)"
      ]
     },
     "execution_count": 42,
     "metadata": {},
     "output_type": "execute_result"
    }
   ],
   "source": [
    "DATETIMEEVENTS.shape"
   ]
  },
  {
   "cell_type": "markdown",
   "metadata": {},
   "source": [
    "The DATETIMEEVENTS table in the MIMIC-III dataset contains information about time-stamped events recorded in the ICU. These events are typically related to orders, such as medication administration, procedures, or other patient care activities.\n",
    "\n",
    "Column-Wise Description of DATETIMEEVENTS Table:\n",
    "|**Column Name**\t|**Description**|\n",
    "|------------------------|-------------------------------------------------------------------------------------------------------|\n",
    "|ROW_ID\t|A unique identifier for each row in the table.|\n",
    "|SUBJECT_ID\t|A unique identifier for the patient associated with the event.|\n",
    "|HADM_ID|\tA unique identifier for the hospital admission during which the event occurred.|\n",
    "|ICUSTAY_ID\t|A unique identifier for the ICU stay during which the event occurred.|\n",
    "|ITEMID\t|A unique identifier for the type of event (linked to the D_ITEMS table for descriptions).|\n",
    "|CHARTTIME\t|The time when the event was recorded or occurred (if available).|\n",
    "|STORETIME\t|The time when the event was stored in the database.|\n",
    "|CATEGORY\t|The category of the event (e.g., \"Medication,\" \"Procedure,\" etc.).|\n",
    "|DESCRIPTION\t|A textual description of the event type, often linked to ITEMID through the D_ITEMS table.|\n",
    "|CGID\t|The identifier for the caregiver (clinician) associated with the event.|\n",
    "|VALUE\t|The value associated with the event (e.g., a dosage amount, a measurement, etc.).|\n",
    "|VALUEUOM\t|The unit of measurement for the VALUE (e.g., \"mg,\" \"mL,\" etc.).|\n",
    "|WARNING\t|A flag indicating if there was a warning associated with the event (1 for warning, NaN otherwise).|\n",
    "|ERROR\t|A flag indicating if there was an error associated with the event (1 for error, NaN otherwise).|\n"
   ]
  },
  {
   "cell_type": "markdown",
   "metadata": {},
   "source": []
  },
  {
   "cell_type": "markdown",
   "metadata": {},
   "source": [
    "## 10. DIAGNOSES_ICD.csv DATA INFORMATION"
   ]
  },
  {
   "cell_type": "code",
   "execution_count": 43,
   "metadata": {},
   "outputs": [
    {
     "data": {
      "text/html": [
       "<div>\n",
       "<style scoped>\n",
       "    .dataframe tbody tr th:only-of-type {\n",
       "        vertical-align: middle;\n",
       "    }\n",
       "\n",
       "    .dataframe tbody tr th {\n",
       "        vertical-align: top;\n",
       "    }\n",
       "\n",
       "    .dataframe thead th {\n",
       "        text-align: right;\n",
       "    }\n",
       "</style>\n",
       "<table border=\"1\" class=\"dataframe\">\n",
       "  <thead>\n",
       "    <tr style=\"text-align: right;\">\n",
       "      <th></th>\n",
       "      <th>ROW_ID</th>\n",
       "      <th>SUBJECT_ID</th>\n",
       "      <th>HADM_ID</th>\n",
       "      <th>SEQ_NUM</th>\n",
       "      <th>ICD9_CODE</th>\n",
       "    </tr>\n",
       "  </thead>\n",
       "  <tbody>\n",
       "    <tr>\n",
       "      <th>0</th>\n",
       "      <td>1297</td>\n",
       "      <td>109</td>\n",
       "      <td>172335</td>\n",
       "      <td>1.0</td>\n",
       "      <td>40301</td>\n",
       "    </tr>\n",
       "    <tr>\n",
       "      <th>1</th>\n",
       "      <td>1298</td>\n",
       "      <td>109</td>\n",
       "      <td>172335</td>\n",
       "      <td>2.0</td>\n",
       "      <td>486</td>\n",
       "    </tr>\n",
       "    <tr>\n",
       "      <th>2</th>\n",
       "      <td>1299</td>\n",
       "      <td>109</td>\n",
       "      <td>172335</td>\n",
       "      <td>3.0</td>\n",
       "      <td>58281</td>\n",
       "    </tr>\n",
       "    <tr>\n",
       "      <th>3</th>\n",
       "      <td>1300</td>\n",
       "      <td>109</td>\n",
       "      <td>172335</td>\n",
       "      <td>4.0</td>\n",
       "      <td>5855</td>\n",
       "    </tr>\n",
       "    <tr>\n",
       "      <th>4</th>\n",
       "      <td>1301</td>\n",
       "      <td>109</td>\n",
       "      <td>172335</td>\n",
       "      <td>5.0</td>\n",
       "      <td>4254</td>\n",
       "    </tr>\n",
       "  </tbody>\n",
       "</table>\n",
       "</div>"
      ],
      "text/plain": [
       "   ROW_ID  SUBJECT_ID  HADM_ID  SEQ_NUM ICD9_CODE\n",
       "0    1297         109   172335      1.0     40301\n",
       "1    1298         109   172335      2.0       486\n",
       "2    1299         109   172335      3.0     58281\n",
       "3    1300         109   172335      4.0      5855\n",
       "4    1301         109   172335      5.0      4254"
      ]
     },
     "execution_count": 43,
     "metadata": {},
     "output_type": "execute_result"
    }
   ],
   "source": [
    "DIAGNOSES_ICD=pd.read_csv(r'D:\\Final_year_project\\final project dataset\\final project\\DIAGNOSES_ICD.csv')\n",
    "DIAGNOSES_ICD.head()"
   ]
  },
  {
   "cell_type": "code",
   "execution_count": 44,
   "metadata": {},
   "outputs": [
    {
     "data": {
      "text/plain": [
       "(651047, 5)"
      ]
     },
     "execution_count": 44,
     "metadata": {},
     "output_type": "execute_result"
    }
   ],
   "source": [
    "DIAGNOSES_ICD.shape"
   ]
  },
  {
   "cell_type": "code",
   "execution_count": null,
   "metadata": {},
   "outputs": [],
   "source": [
    "gxdg"
   ]
  },
  {
   "cell_type": "markdown",
   "metadata": {},
   "source": [
    "Here’s the DIAGNOSES_ICD table description in tabular format:\n",
    "\n",
    "|**Column Name**|\t**Description**|\n",
    "|------------------------|-------------------------------------------------------------------------------------------------------|\n",
    "|ROW_ID|\tUnique identifier for each row in the table (used for internal tracking).|\n",
    "|SUBJECT_ID|\tIdentifier for the patient associated with the diagnosis (foreign key to the PATIENTS table).|\n",
    "|HADM_ID\t|Identifier for the hospital admission associated with the diagnosis (foreign key to the ADMISSIONS table).|\n",
    "|SEQ_NUM|\tSequential number of the diagnosis within a given admission (e.g., primary, secondary diagnoses).|\n",
    "|ICD9_CODE|\tICD-9 (International Classification of Diseases, 9th Revision) code for the diagnosis.|"
   ]
  },
  {
   "cell_type": "markdown",
   "metadata": {},
   "source": [
    "## 11. DRGCODES.csv DATA INFORMATION"
   ]
  },
  {
   "cell_type": "code",
   "execution_count": 45,
   "metadata": {},
   "outputs": [
    {
     "data": {
      "text/html": [
       "<div>\n",
       "<style scoped>\n",
       "    .dataframe tbody tr th:only-of-type {\n",
       "        vertical-align: middle;\n",
       "    }\n",
       "\n",
       "    .dataframe tbody tr th {\n",
       "        vertical-align: top;\n",
       "    }\n",
       "\n",
       "    .dataframe thead th {\n",
       "        text-align: right;\n",
       "    }\n",
       "</style>\n",
       "<table border=\"1\" class=\"dataframe\">\n",
       "  <thead>\n",
       "    <tr style=\"text-align: right;\">\n",
       "      <th></th>\n",
       "      <th>ROW_ID</th>\n",
       "      <th>SUBJECT_ID</th>\n",
       "      <th>HADM_ID</th>\n",
       "      <th>DRG_TYPE</th>\n",
       "      <th>DRG_CODE</th>\n",
       "      <th>DESCRIPTION</th>\n",
       "      <th>DRG_SEVERITY</th>\n",
       "      <th>DRG_MORTALITY</th>\n",
       "    </tr>\n",
       "  </thead>\n",
       "  <tbody>\n",
       "    <tr>\n",
       "      <th>0</th>\n",
       "      <td>342</td>\n",
       "      <td>2491</td>\n",
       "      <td>144486</td>\n",
       "      <td>HCFA</td>\n",
       "      <td>28</td>\n",
       "      <td>TRAUMATIC STUPOR &amp; COMA, COMA &lt;1 HR AGE &gt;17 WI...</td>\n",
       "      <td>NaN</td>\n",
       "      <td>NaN</td>\n",
       "    </tr>\n",
       "    <tr>\n",
       "      <th>1</th>\n",
       "      <td>343</td>\n",
       "      <td>24958</td>\n",
       "      <td>162910</td>\n",
       "      <td>HCFA</td>\n",
       "      <td>110</td>\n",
       "      <td>MAJOR CARDIOVASCULAR PROCEDURES WITH COMPLICAT...</td>\n",
       "      <td>NaN</td>\n",
       "      <td>NaN</td>\n",
       "    </tr>\n",
       "    <tr>\n",
       "      <th>2</th>\n",
       "      <td>344</td>\n",
       "      <td>18325</td>\n",
       "      <td>153751</td>\n",
       "      <td>HCFA</td>\n",
       "      <td>390</td>\n",
       "      <td>NEONATE WITH OTHER SIGNIFICANT PROBLEMS</td>\n",
       "      <td>NaN</td>\n",
       "      <td>NaN</td>\n",
       "    </tr>\n",
       "    <tr>\n",
       "      <th>3</th>\n",
       "      <td>345</td>\n",
       "      <td>17887</td>\n",
       "      <td>182692</td>\n",
       "      <td>HCFA</td>\n",
       "      <td>14</td>\n",
       "      <td>SPECIFIC CEREBROVASCULAR DISORDERS EXCEPT TRAN...</td>\n",
       "      <td>NaN</td>\n",
       "      <td>NaN</td>\n",
       "    </tr>\n",
       "    <tr>\n",
       "      <th>4</th>\n",
       "      <td>346</td>\n",
       "      <td>11113</td>\n",
       "      <td>157980</td>\n",
       "      <td>HCFA</td>\n",
       "      <td>390</td>\n",
       "      <td>NEONATE WITH OTHER SIGNIFICANT PROBLEMS</td>\n",
       "      <td>NaN</td>\n",
       "      <td>NaN</td>\n",
       "    </tr>\n",
       "  </tbody>\n",
       "</table>\n",
       "</div>"
      ],
      "text/plain": [
       "   ROW_ID  SUBJECT_ID  HADM_ID DRG_TYPE  DRG_CODE  \\\n",
       "0     342        2491   144486     HCFA        28   \n",
       "1     343       24958   162910     HCFA       110   \n",
       "2     344       18325   153751     HCFA       390   \n",
       "3     345       17887   182692     HCFA        14   \n",
       "4     346       11113   157980     HCFA       390   \n",
       "\n",
       "                                         DESCRIPTION  DRG_SEVERITY  \\\n",
       "0  TRAUMATIC STUPOR & COMA, COMA <1 HR AGE >17 WI...           NaN   \n",
       "1  MAJOR CARDIOVASCULAR PROCEDURES WITH COMPLICAT...           NaN   \n",
       "2            NEONATE WITH OTHER SIGNIFICANT PROBLEMS           NaN   \n",
       "3  SPECIFIC CEREBROVASCULAR DISORDERS EXCEPT TRAN...           NaN   \n",
       "4            NEONATE WITH OTHER SIGNIFICANT PROBLEMS           NaN   \n",
       "\n",
       "   DRG_MORTALITY  \n",
       "0            NaN  \n",
       "1            NaN  \n",
       "2            NaN  \n",
       "3            NaN  \n",
       "4            NaN  "
      ]
     },
     "execution_count": 45,
     "metadata": {},
     "output_type": "execute_result"
    }
   ],
   "source": [
    "DRGCODES=pd.read_csv(r'D:\\Final_year_project\\final project dataset\\final project\\DRGCODES.csv')\n",
    "DRGCODES.head()"
   ]
  },
  {
   "cell_type": "code",
   "execution_count": 46,
   "metadata": {},
   "outputs": [
    {
     "data": {
      "text/plain": [
       "(125557, 8)"
      ]
     },
     "execution_count": 46,
     "metadata": {},
     "output_type": "execute_result"
    }
   ],
   "source": [
    "DRGCODES.shape"
   ]
  },
  {
   "cell_type": "markdown",
   "metadata": {},
   "source": [
    "Here’s the DRGCODES table description in tabular format:\n",
    "\n",
    "|**Column Name**|\t**Description**|\n",
    "|------------------------|-------------------------------------------------------------------------------------------------------|\n",
    "|ROW_ID|\tUnique identifier for each row in the table (used for internal tracking).|\n",
    "|SUBJECT_ID\t|Identifier for the patient associated with the DRG code (foreign key to the PATIENTS table).|\n",
    "|HADM_ID\t|Identifier for the hospital admission associated with the DRG code (foreign key to the ADMISSIONS table).|\n",
    "|DRG_CODE|\tDiagnosis-Related Group (DRG) code assigned to the admission, which classifies the diagnosis for payment purposes.|\n",
    "|DRG_TYPE|\tType of DRG, which indicates whether the DRG is for a medical or surgical case.|\n",
    "|DRG_DESCRIPTION|\tDescription of the DRG code, providing a textual explanation of the diagnosis group (e.g., \"Heart failure\").|"
   ]
  },
  {
   "cell_type": "markdown",
   "metadata": {},
   "source": []
  },
  {
   "cell_type": "markdown",
   "metadata": {},
   "source": [
    "## 12. medical_health.csv DATA INFORMATION"
   ]
  },
  {
   "cell_type": "code",
   "execution_count": 47,
   "metadata": {},
   "outputs": [
    {
     "data": {
      "text/html": [
       "<div>\n",
       "<style scoped>\n",
       "    .dataframe tbody tr th:only-of-type {\n",
       "        vertical-align: middle;\n",
       "    }\n",
       "\n",
       "    .dataframe tbody tr th {\n",
       "        vertical-align: top;\n",
       "    }\n",
       "\n",
       "    .dataframe thead th {\n",
       "        text-align: right;\n",
       "    }\n",
       "</style>\n",
       "<table border=\"1\" class=\"dataframe\">\n",
       "  <thead>\n",
       "    <tr style=\"text-align: right;\">\n",
       "      <th></th>\n",
       "      <th>hadm_id</th>\n",
       "      <th>avg_albumin</th>\n",
       "      <th>std_albumin</th>\n",
       "      <th>avg_bicarbonate</th>\n",
       "      <th>std_bicarbonate</th>\n",
       "      <th>avg_blood_glucose</th>\n",
       "      <th>std_blood_glucose</th>\n",
       "      <th>avg_blood_urea_nitrogen</th>\n",
       "      <th>std_blood_urea_nitrogen</th>\n",
       "      <th>avg_creatinine</th>\n",
       "      <th>...</th>\n",
       "      <th>avg_hematrocrit</th>\n",
       "      <th>std_hematrocrit</th>\n",
       "      <th>avg_platelet_count</th>\n",
       "      <th>std_platelet_count</th>\n",
       "      <th>avg_potasssium</th>\n",
       "      <th>std_potasssium</th>\n",
       "      <th>avg_sodium</th>\n",
       "      <th>std_sodium</th>\n",
       "      <th>avg_white_blood_cells</th>\n",
       "      <th>std_white_blood_cells</th>\n",
       "    </tr>\n",
       "  </thead>\n",
       "  <tbody>\n",
       "    <tr>\n",
       "      <th>0</th>\n",
       "      <td>100003.0</td>\n",
       "      <td>2.40</td>\n",
       "      <td>0.173205</td>\n",
       "      <td>19.666667</td>\n",
       "      <td>3.983298</td>\n",
       "      <td>96.833333</td>\n",
       "      <td>26.798632</td>\n",
       "      <td>34.500000</td>\n",
       "      <td>16.071714</td>\n",
       "      <td>1.083333</td>\n",
       "      <td>...</td>\n",
       "      <td>27.781818</td>\n",
       "      <td>2.644927</td>\n",
       "      <td>145.285714</td>\n",
       "      <td>27.219566</td>\n",
       "      <td>4.783333</td>\n",
       "      <td>0.556477</td>\n",
       "      <td>132.000000</td>\n",
       "      <td>1.264911</td>\n",
       "      <td>13.328571</td>\n",
       "      <td>2.566265</td>\n",
       "    </tr>\n",
       "    <tr>\n",
       "      <th>1</th>\n",
       "      <td>100006.0</td>\n",
       "      <td>2.00</td>\n",
       "      <td>NaN</td>\n",
       "      <td>29.384615</td>\n",
       "      <td>3.990373</td>\n",
       "      <td>105.000000</td>\n",
       "      <td>33.578267</td>\n",
       "      <td>17.076923</td>\n",
       "      <td>3.226493</td>\n",
       "      <td>0.638462</td>\n",
       "      <td>...</td>\n",
       "      <td>31.853846</td>\n",
       "      <td>2.733318</td>\n",
       "      <td>228.615385</td>\n",
       "      <td>35.998932</td>\n",
       "      <td>4.076923</td>\n",
       "      <td>0.297640</td>\n",
       "      <td>131.384615</td>\n",
       "      <td>1.980676</td>\n",
       "      <td>9.700000</td>\n",
       "      <td>2.840188</td>\n",
       "    </tr>\n",
       "    <tr>\n",
       "      <th>2</th>\n",
       "      <td>100009.0</td>\n",
       "      <td>4.30</td>\n",
       "      <td>NaN</td>\n",
       "      <td>25.200000</td>\n",
       "      <td>1.923538</td>\n",
       "      <td>152.235294</td>\n",
       "      <td>42.697379</td>\n",
       "      <td>17.000000</td>\n",
       "      <td>3.633180</td>\n",
       "      <td>0.783333</td>\n",
       "      <td>...</td>\n",
       "      <td>35.914286</td>\n",
       "      <td>3.575112</td>\n",
       "      <td>142.571429</td>\n",
       "      <td>28.814679</td>\n",
       "      <td>4.242857</td>\n",
       "      <td>0.222539</td>\n",
       "      <td>137.714286</td>\n",
       "      <td>3.039424</td>\n",
       "      <td>12.385714</td>\n",
       "      <td>2.927131</td>\n",
       "    </tr>\n",
       "    <tr>\n",
       "      <th>3</th>\n",
       "      <td>100011.0</td>\n",
       "      <td>2.45</td>\n",
       "      <td>0.070711</td>\n",
       "      <td>27.187500</td>\n",
       "      <td>2.286737</td>\n",
       "      <td>132.458333</td>\n",
       "      <td>19.834049</td>\n",
       "      <td>11.764706</td>\n",
       "      <td>2.107410</td>\n",
       "      <td>0.817647</td>\n",
       "      <td>...</td>\n",
       "      <td>27.562963</td>\n",
       "      <td>5.553665</td>\n",
       "      <td>518.058824</td>\n",
       "      <td>419.045116</td>\n",
       "      <td>4.084615</td>\n",
       "      <td>0.473871</td>\n",
       "      <td>138.037037</td>\n",
       "      <td>1.911131</td>\n",
       "      <td>11.829412</td>\n",
       "      <td>3.451044</td>\n",
       "    </tr>\n",
       "    <tr>\n",
       "      <th>4</th>\n",
       "      <td>100012.0</td>\n",
       "      <td>3.85</td>\n",
       "      <td>0.353553</td>\n",
       "      <td>26.555556</td>\n",
       "      <td>3.778595</td>\n",
       "      <td>111.166667</td>\n",
       "      <td>14.288004</td>\n",
       "      <td>12.909091</td>\n",
       "      <td>1.868397</td>\n",
       "      <td>0.845455</td>\n",
       "      <td>...</td>\n",
       "      <td>28.486667</td>\n",
       "      <td>4.719695</td>\n",
       "      <td>198.384615</td>\n",
       "      <td>65.723586</td>\n",
       "      <td>4.185714</td>\n",
       "      <td>0.382013</td>\n",
       "      <td>132.928571</td>\n",
       "      <td>2.164905</td>\n",
       "      <td>8.930769</td>\n",
       "      <td>2.450301</td>\n",
       "    </tr>\n",
       "  </tbody>\n",
       "</table>\n",
       "<p>5 rows × 21 columns</p>\n",
       "</div>"
      ],
      "text/plain": [
       "    hadm_id  avg_albumin  std_albumin  avg_bicarbonate  std_bicarbonate  \\\n",
       "0  100003.0         2.40     0.173205        19.666667         3.983298   \n",
       "1  100006.0         2.00          NaN        29.384615         3.990373   \n",
       "2  100009.0         4.30          NaN        25.200000         1.923538   \n",
       "3  100011.0         2.45     0.070711        27.187500         2.286737   \n",
       "4  100012.0         3.85     0.353553        26.555556         3.778595   \n",
       "\n",
       "   avg_blood_glucose  std_blood_glucose  avg_blood_urea_nitrogen  \\\n",
       "0          96.833333          26.798632                34.500000   \n",
       "1         105.000000          33.578267                17.076923   \n",
       "2         152.235294          42.697379                17.000000   \n",
       "3         132.458333          19.834049                11.764706   \n",
       "4         111.166667          14.288004                12.909091   \n",
       "\n",
       "   std_blood_urea_nitrogen  avg_creatinine  ...  avg_hematrocrit  \\\n",
       "0                16.071714        1.083333  ...        27.781818   \n",
       "1                 3.226493        0.638462  ...        31.853846   \n",
       "2                 3.633180        0.783333  ...        35.914286   \n",
       "3                 2.107410        0.817647  ...        27.562963   \n",
       "4                 1.868397        0.845455  ...        28.486667   \n",
       "\n",
       "   std_hematrocrit  avg_platelet_count  std_platelet_count  avg_potasssium  \\\n",
       "0         2.644927          145.285714           27.219566        4.783333   \n",
       "1         2.733318          228.615385           35.998932        4.076923   \n",
       "2         3.575112          142.571429           28.814679        4.242857   \n",
       "3         5.553665          518.058824          419.045116        4.084615   \n",
       "4         4.719695          198.384615           65.723586        4.185714   \n",
       "\n",
       "   std_potasssium  avg_sodium  std_sodium  avg_white_blood_cells  \\\n",
       "0        0.556477  132.000000    1.264911              13.328571   \n",
       "1        0.297640  131.384615    1.980676               9.700000   \n",
       "2        0.222539  137.714286    3.039424              12.385714   \n",
       "3        0.473871  138.037037    1.911131              11.829412   \n",
       "4        0.382013  132.928571    2.164905               8.930769   \n",
       "\n",
       "   std_white_blood_cells  \n",
       "0               2.566265  \n",
       "1               2.840188  \n",
       "2               2.927131  \n",
       "3               3.451044  \n",
       "4               2.450301  \n",
       "\n",
       "[5 rows x 21 columns]"
      ]
     },
     "execution_count": 47,
     "metadata": {},
     "output_type": "execute_result"
    }
   ],
   "source": [
    "medical_health=pd.read_csv(r'D:\\Final_year_project\\final project dataset\\final project\\medical_health.csv')\n",
    "medical_health.head()"
   ]
  },
  {
   "cell_type": "code",
   "execution_count": 48,
   "metadata": {},
   "outputs": [
    {
     "data": {
      "text/plain": [
       "(30816, 21)"
      ]
     },
     "execution_count": 48,
     "metadata": {},
     "output_type": "execute_result"
    }
   ],
   "source": [
    "medical_health.shape"
   ]
  },
  {
   "cell_type": "markdown",
   "metadata": {},
   "source": []
  },
  {
   "cell_type": "markdown",
   "metadata": {},
   "source": [
    "## 13. MICROBIOLOGYEVENTS.csv DATA INFORMATION"
   ]
  },
  {
   "cell_type": "code",
   "execution_count": 49,
   "metadata": {},
   "outputs": [
    {
     "data": {
      "text/html": [
       "<div>\n",
       "<style scoped>\n",
       "    .dataframe tbody tr th:only-of-type {\n",
       "        vertical-align: middle;\n",
       "    }\n",
       "\n",
       "    .dataframe tbody tr th {\n",
       "        vertical-align: top;\n",
       "    }\n",
       "\n",
       "    .dataframe thead th {\n",
       "        text-align: right;\n",
       "    }\n",
       "</style>\n",
       "<table border=\"1\" class=\"dataframe\">\n",
       "  <thead>\n",
       "    <tr style=\"text-align: right;\">\n",
       "      <th></th>\n",
       "      <th>row_id</th>\n",
       "      <th>subject_id</th>\n",
       "      <th>hadm_id</th>\n",
       "      <th>chartdate</th>\n",
       "      <th>charttime</th>\n",
       "      <th>spec_itemid</th>\n",
       "      <th>spec_type_desc</th>\n",
       "      <th>org_itemid</th>\n",
       "      <th>org_name</th>\n",
       "      <th>isolate_num</th>\n",
       "      <th>ab_itemid</th>\n",
       "      <th>ab_name</th>\n",
       "      <th>dilution_text</th>\n",
       "      <th>dilution_comparison</th>\n",
       "      <th>dilution_value</th>\n",
       "      <th>interpretation</th>\n",
       "    </tr>\n",
       "  </thead>\n",
       "  <tbody>\n",
       "    <tr>\n",
       "      <th>0</th>\n",
       "      <td>134694</td>\n",
       "      <td>10006</td>\n",
       "      <td>142345</td>\n",
       "      <td>2164-10-23 00:00:00</td>\n",
       "      <td>2164-10-23 15:30:00</td>\n",
       "      <td>70012</td>\n",
       "      <td>BLOOD CULTURE</td>\n",
       "      <td>80155.0</td>\n",
       "      <td>STAPHYLOCOCCUS, COAGULASE NEGATIVE</td>\n",
       "      <td>2.0</td>\n",
       "      <td>NaN</td>\n",
       "      <td>NaN</td>\n",
       "      <td>NaN</td>\n",
       "      <td>NaN</td>\n",
       "      <td>NaN</td>\n",
       "      <td>NaN</td>\n",
       "    </tr>\n",
       "    <tr>\n",
       "      <th>1</th>\n",
       "      <td>134695</td>\n",
       "      <td>10006</td>\n",
       "      <td>142345</td>\n",
       "      <td>2164-10-23 00:00:00</td>\n",
       "      <td>2164-10-23 15:30:00</td>\n",
       "      <td>70012</td>\n",
       "      <td>BLOOD CULTURE</td>\n",
       "      <td>80155.0</td>\n",
       "      <td>STAPHYLOCOCCUS, COAGULASE NEGATIVE</td>\n",
       "      <td>1.0</td>\n",
       "      <td>90015.0</td>\n",
       "      <td>VANCOMYCIN</td>\n",
       "      <td>2</td>\n",
       "      <td>=</td>\n",
       "      <td>2.0</td>\n",
       "      <td>S</td>\n",
       "    </tr>\n",
       "    <tr>\n",
       "      <th>2</th>\n",
       "      <td>134696</td>\n",
       "      <td>10006</td>\n",
       "      <td>142345</td>\n",
       "      <td>2164-10-23 00:00:00</td>\n",
       "      <td>2164-10-23 15:30:00</td>\n",
       "      <td>70012</td>\n",
       "      <td>BLOOD CULTURE</td>\n",
       "      <td>80155.0</td>\n",
       "      <td>STAPHYLOCOCCUS, COAGULASE NEGATIVE</td>\n",
       "      <td>1.0</td>\n",
       "      <td>90012.0</td>\n",
       "      <td>GENTAMICIN</td>\n",
       "      <td>&lt;=0.5</td>\n",
       "      <td>&lt;=</td>\n",
       "      <td>1.0</td>\n",
       "      <td>S</td>\n",
       "    </tr>\n",
       "    <tr>\n",
       "      <th>3</th>\n",
       "      <td>134697</td>\n",
       "      <td>10006</td>\n",
       "      <td>142345</td>\n",
       "      <td>2164-10-23 00:00:00</td>\n",
       "      <td>2164-10-23 15:30:00</td>\n",
       "      <td>70012</td>\n",
       "      <td>BLOOD CULTURE</td>\n",
       "      <td>80155.0</td>\n",
       "      <td>STAPHYLOCOCCUS, COAGULASE NEGATIVE</td>\n",
       "      <td>1.0</td>\n",
       "      <td>90025.0</td>\n",
       "      <td>LEVOFLOXACIN</td>\n",
       "      <td>4</td>\n",
       "      <td>=</td>\n",
       "      <td>4.0</td>\n",
       "      <td>I</td>\n",
       "    </tr>\n",
       "    <tr>\n",
       "      <th>4</th>\n",
       "      <td>134698</td>\n",
       "      <td>10006</td>\n",
       "      <td>142345</td>\n",
       "      <td>2164-10-23 00:00:00</td>\n",
       "      <td>2164-10-23 15:30:00</td>\n",
       "      <td>70012</td>\n",
       "      <td>BLOOD CULTURE</td>\n",
       "      <td>80155.0</td>\n",
       "      <td>STAPHYLOCOCCUS, COAGULASE NEGATIVE</td>\n",
       "      <td>1.0</td>\n",
       "      <td>90016.0</td>\n",
       "      <td>OXACILLIN</td>\n",
       "      <td>=&gt;4</td>\n",
       "      <td>=&gt;</td>\n",
       "      <td>4.0</td>\n",
       "      <td>R</td>\n",
       "    </tr>\n",
       "  </tbody>\n",
       "</table>\n",
       "</div>"
      ],
      "text/plain": [
       "   row_id  subject_id  hadm_id            chartdate            charttime  \\\n",
       "0  134694       10006   142345  2164-10-23 00:00:00  2164-10-23 15:30:00   \n",
       "1  134695       10006   142345  2164-10-23 00:00:00  2164-10-23 15:30:00   \n",
       "2  134696       10006   142345  2164-10-23 00:00:00  2164-10-23 15:30:00   \n",
       "3  134697       10006   142345  2164-10-23 00:00:00  2164-10-23 15:30:00   \n",
       "4  134698       10006   142345  2164-10-23 00:00:00  2164-10-23 15:30:00   \n",
       "\n",
       "   spec_itemid spec_type_desc  org_itemid                            org_name  \\\n",
       "0        70012  BLOOD CULTURE     80155.0  STAPHYLOCOCCUS, COAGULASE NEGATIVE   \n",
       "1        70012  BLOOD CULTURE     80155.0  STAPHYLOCOCCUS, COAGULASE NEGATIVE   \n",
       "2        70012  BLOOD CULTURE     80155.0  STAPHYLOCOCCUS, COAGULASE NEGATIVE   \n",
       "3        70012  BLOOD CULTURE     80155.0  STAPHYLOCOCCUS, COAGULASE NEGATIVE   \n",
       "4        70012  BLOOD CULTURE     80155.0  STAPHYLOCOCCUS, COAGULASE NEGATIVE   \n",
       "\n",
       "   isolate_num  ab_itemid       ab_name dilution_text dilution_comparison  \\\n",
       "0          2.0        NaN           NaN           NaN                 NaN   \n",
       "1          1.0    90015.0    VANCOMYCIN             2                   =   \n",
       "2          1.0    90012.0    GENTAMICIN         <=0.5                  <=   \n",
       "3          1.0    90025.0  LEVOFLOXACIN             4                   =   \n",
       "4          1.0    90016.0     OXACILLIN           =>4                  =>   \n",
       "\n",
       "   dilution_value interpretation  \n",
       "0             NaN            NaN  \n",
       "1             2.0              S  \n",
       "2             1.0              S  \n",
       "3             4.0              I  \n",
       "4             4.0              R  "
      ]
     },
     "execution_count": 49,
     "metadata": {},
     "output_type": "execute_result"
    }
   ],
   "source": [
    "MICROBIOLOGYEVENTS=pd.read_csv(r'D:\\Final_year_project\\final project dataset\\final project\\MICROBIOLOGYEVENTS.csv')\n",
    "MICROBIOLOGYEVENTS.head()"
   ]
  },
  {
   "cell_type": "code",
   "execution_count": 50,
   "metadata": {},
   "outputs": [
    {
     "data": {
      "text/plain": [
       "(2003, 16)"
      ]
     },
     "execution_count": 50,
     "metadata": {},
     "output_type": "execute_result"
    }
   ],
   "source": [
    "MICROBIOLOGYEVENTS.shape"
   ]
  },
  {
   "cell_type": "markdown",
   "metadata": {},
   "source": [
    "The MICROBIOLOGYEVENTS table in the MIMIC-III dataset contains microbiology test results for patients. This table provides detailed information about cultures and sensitivity tests performed during patient care, often to identify infections and determine effective treatments.\n",
    "\n",
    "Column-Wise Description of MICROBIOLOGYEVENTS Table:\n",
    "\n",
    "|**Column Name**|**Description**|\n",
    "|------------------------|-------------------------------------------------------------------------------------------------------|\n",
    "|'ROW_ID'                 |\tA unique identifier for each row in the table.|\n",
    "|'SUBJECT_ID '             |\tA unique identifier for the patient associated with the test.|\n",
    "|'HADM_ID'                 |\tA unique identifier for the hospital admission during which the test was performed.|\n",
    "|'CHARTDATE'               |\tThe date on which the microbiology sample was taken (YYYY-MM-DD format).|\n",
    "|'CHARTTIME'               |\tThe specific time when the microbiology sample was taken (if available).|\n",
    "|'SPEC_ITEMID'             |\tThe identifier for the type of specimen collected (e.g., blood, urine, sputum).|\n",
    "|'SPEC_TYPE_DESC'          |\tA description of the type of specimen (e.g., \"Blood Culture,\" \"Urine Culture\").|\n",
    "|'ORG_ITEMID'              |\tThe identifier for the organism identified in the culture (if applicable).|\n",
    "|'ORG_NAME'               |\tThe name of the organism identified in the culture (e.g., \"Escherichia coli,\" \"Staphylococcus aureus\").|\n",
    "|'ISOLATE_NUM'             |\tThe isolate number, which distinguishes between multiple isolates from the same specimen.|\n",
    "|'AB_ITEMID'               |\tThe identifier for the antibiotic tested (if a sensitivity test was performed).|\n",
    "|'AB_NAME'                 |\tThe name of the antibiotic tested (e.g., \"Vancomycin,\" \"Ceftriaxone\").|\n",
    "|'DILUTION_TEXT'           |\tThe text representation of the dilution tested for antibiotic sensitivity (if applicable).|\n",
    "|'DILUTION_COMPARISON '    |\tA symbol indicating the relationship between the tested dilution and the breakpoint (e.g., \"=\", \">\").|\n",
    "|'INTERPRETATION'          |\tThe interpretation of the sensitivity result (e.g., \"S\" for Sensitive, \"R\" for Resistant).|\n",
    "|'CHARTTYPE'               |  The category of the microbiology event (e.g., \"Culture and Sensitivity\").|\n"
   ]
  },
  {
   "cell_type": "markdown",
   "metadata": {},
   "source": []
  },
  {
   "cell_type": "markdown",
   "metadata": {},
   "source": [
    "## 14. NOTEEVENTS DATA INFORMATION"
   ]
  },
  {
   "cell_type": "code",
   "execution_count": 51,
   "metadata": {},
   "outputs": [],
   "source": [
    "NOTEEVENTS=pd.read_csv(r'D:\\Final_year_project\\final project dataset\\final project\\NOTEEVENTS.csv')"
   ]
  },
  {
   "cell_type": "code",
   "execution_count": 52,
   "metadata": {},
   "outputs": [
    {
     "data": {
      "text/html": [
       "<div>\n",
       "<style scoped>\n",
       "    .dataframe tbody tr th:only-of-type {\n",
       "        vertical-align: middle;\n",
       "    }\n",
       "\n",
       "    .dataframe tbody tr th {\n",
       "        vertical-align: top;\n",
       "    }\n",
       "\n",
       "    .dataframe thead th {\n",
       "        text-align: right;\n",
       "    }\n",
       "</style>\n",
       "<table border=\"1\" class=\"dataframe\">\n",
       "  <thead>\n",
       "    <tr style=\"text-align: right;\">\n",
       "      <th></th>\n",
       "      <th>row_id</th>\n",
       "      <th>subject_id</th>\n",
       "      <th>hadm_id</th>\n",
       "      <th>chartdate</th>\n",
       "      <th>category</th>\n",
       "      <th>description</th>\n",
       "      <th>cgid</th>\n",
       "      <th>iserror</th>\n",
       "      <th>text</th>\n",
       "    </tr>\n",
       "  </thead>\n",
       "  <tbody>\n",
       "    <tr>\n",
       "      <th>0</th>\n",
       "      <td>776</td>\n",
       "      <td>20007</td>\n",
       "      <td>188442.0</td>\n",
       "      <td>2183-10-29 00:00:00</td>\n",
       "      <td>Discharge summary</td>\n",
       "      <td>Report</td>\n",
       "      <td>NaN</td>\n",
       "      <td>NaN</td>\n",
       "      <td>Admission Date:  [**2183-9-25**]       Dischar...</td>\n",
       "    </tr>\n",
       "    <tr>\n",
       "      <th>1</th>\n",
       "      <td>777</td>\n",
       "      <td>20007</td>\n",
       "      <td>193793.0</td>\n",
       "      <td>2184-01-20 00:00:00</td>\n",
       "      <td>Discharge summary</td>\n",
       "      <td>Report</td>\n",
       "      <td>NaN</td>\n",
       "      <td>NaN</td>\n",
       "      <td>Admission Date:  [**2184-1-16**]       Dischar...</td>\n",
       "    </tr>\n",
       "    <tr>\n",
       "      <th>2</th>\n",
       "      <td>778</td>\n",
       "      <td>59883</td>\n",
       "      <td>118446.0</td>\n",
       "      <td>2103-04-18 00:00:00</td>\n",
       "      <td>Discharge summary</td>\n",
       "      <td>Report</td>\n",
       "      <td>NaN</td>\n",
       "      <td>NaN</td>\n",
       "      <td>Admission Date:  [**2103-4-11**]              ...</td>\n",
       "    </tr>\n",
       "    <tr>\n",
       "      <th>3</th>\n",
       "      <td>779</td>\n",
       "      <td>17043</td>\n",
       "      <td>157985.0</td>\n",
       "      <td>2103-10-11 00:00:00</td>\n",
       "      <td>Discharge summary</td>\n",
       "      <td>Report</td>\n",
       "      <td>NaN</td>\n",
       "      <td>NaN</td>\n",
       "      <td>Admission Date:  [**2103-10-7**]       Dischar...</td>\n",
       "    </tr>\n",
       "    <tr>\n",
       "      <th>4</th>\n",
       "      <td>785</td>\n",
       "      <td>7019</td>\n",
       "      <td>189488.0</td>\n",
       "      <td>2131-04-06 00:00:00</td>\n",
       "      <td>Discharge summary</td>\n",
       "      <td>Report</td>\n",
       "      <td>NaN</td>\n",
       "      <td>NaN</td>\n",
       "      <td>Admission Date:  [**2131-4-2**]              D...</td>\n",
       "    </tr>\n",
       "  </tbody>\n",
       "</table>\n",
       "</div>"
      ],
      "text/plain": [
       "   row_id  subject_id   hadm_id            chartdate           category  \\\n",
       "0     776       20007  188442.0  2183-10-29 00:00:00  Discharge summary   \n",
       "1     777       20007  193793.0  2184-01-20 00:00:00  Discharge summary   \n",
       "2     778       59883  118446.0  2103-04-18 00:00:00  Discharge summary   \n",
       "3     779       17043  157985.0  2103-10-11 00:00:00  Discharge summary   \n",
       "4     785        7019  189488.0  2131-04-06 00:00:00  Discharge summary   \n",
       "\n",
       "  description  cgid  iserror  \\\n",
       "0      Report   NaN      NaN   \n",
       "1      Report   NaN      NaN   \n",
       "2      Report   NaN      NaN   \n",
       "3      Report   NaN      NaN   \n",
       "4      Report   NaN      NaN   \n",
       "\n",
       "                                                text  \n",
       "0  Admission Date:  [**2183-9-25**]       Dischar...  \n",
       "1  Admission Date:  [**2184-1-16**]       Dischar...  \n",
       "2  Admission Date:  [**2103-4-11**]              ...  \n",
       "3  Admission Date:  [**2103-10-7**]       Dischar...  \n",
       "4  Admission Date:  [**2131-4-2**]              D...  "
      ]
     },
     "execution_count": 52,
     "metadata": {},
     "output_type": "execute_result"
    }
   ],
   "source": [
    "NOTEEVENTS.head()"
   ]
  },
  {
   "cell_type": "code",
   "execution_count": 53,
   "metadata": {},
   "outputs": [
    {
     "data": {
      "text/plain": [
       "(2083180, 9)"
      ]
     },
     "execution_count": 53,
     "metadata": {},
     "output_type": "execute_result"
    }
   ],
   "source": [
    "NOTEEVENTS.shape"
   ]
  },
  {
   "cell_type": "markdown",
   "metadata": {},
   "source": [
    "The NOTEEVENTS table in the MIMIC-III dataset contains unstructured free-text clinical notes documented during patient care. These notes include a wide variety of information, such as physician observations, radiology reports, nursing progress notes, and discharge summaries.\n",
    "\n",
    "Here is a column-wise description of the NOTEEVENTS table:\n",
    "\n",
    "| **Column Name** |**Description**|\n",
    "|------------------------|-------------------------------------------------------------------------------------------------------|\n",
    "|'ROW_ID\t'        |A unique identifier for each row in the table.|\n",
    "|'SUBJECT_ID'\t\t    |A unique identifier for the hospital admission during which the note was recorded.|\n",
    "|'CHARTDATE'\t    |The calendar date on which the note was recorded (YYYY-MM-DD format).|\n",
    "|'CHARTTIME'\t    |The specific time when the note was recorded (if available).|\n",
    "|'STORETIME'\t    |The timestamp indicating when the note was stored in the database.|\n",
    "|'CATEGORY'\t    |The category of the note (e.g., Discharge summary, Nursing/other, Radiology, ECG, etc.).|\n",
    "|'DESCRIPTION'\t|A brief description of the note content or type (e.g., \"Nursing Progress Note,\" \"ECG Report\").|\n",
    "|'CGID'\t        |The identifier for the caregiver (clinician) who wrote the note (if available).|\n",
    "|'ISERROR'\t    |Indicates if there was an error in the note (1 if erroneous, NaN otherwise).|\n",
    "|'TEXT'\t        |The full text of the clinical note. This field contains the unstructured free text.|"
   ]
  },
  {
   "cell_type": "markdown",
   "metadata": {},
   "source": []
  },
  {
   "cell_type": "markdown",
   "metadata": {},
   "source": [
    "## 15. PROCEDURES_ICD.csv DATA INFORMATION"
   ]
  },
  {
   "cell_type": "code",
   "execution_count": 54,
   "metadata": {},
   "outputs": [
    {
     "data": {
      "text/html": [
       "<div>\n",
       "<style scoped>\n",
       "    .dataframe tbody tr th:only-of-type {\n",
       "        vertical-align: middle;\n",
       "    }\n",
       "\n",
       "    .dataframe tbody tr th {\n",
       "        vertical-align: top;\n",
       "    }\n",
       "\n",
       "    .dataframe thead th {\n",
       "        text-align: right;\n",
       "    }\n",
       "</style>\n",
       "<table border=\"1\" class=\"dataframe\">\n",
       "  <thead>\n",
       "    <tr style=\"text-align: right;\">\n",
       "      <th></th>\n",
       "      <th>ow_id</th>\n",
       "      <th>subject_id</th>\n",
       "      <th>hadm_id</th>\n",
       "      <th>seq_num</th>\n",
       "      <th>icd9_code</th>\n",
       "    </tr>\n",
       "  </thead>\n",
       "  <tbody>\n",
       "    <tr>\n",
       "      <th>0</th>\n",
       "      <td>3994</td>\n",
       "      <td>10114</td>\n",
       "      <td>167957</td>\n",
       "      <td>1</td>\n",
       "      <td>3605</td>\n",
       "    </tr>\n",
       "    <tr>\n",
       "      <th>1</th>\n",
       "      <td>3995</td>\n",
       "      <td>10114</td>\n",
       "      <td>167957</td>\n",
       "      <td>2</td>\n",
       "      <td>3722</td>\n",
       "    </tr>\n",
       "    <tr>\n",
       "      <th>2</th>\n",
       "      <td>3996</td>\n",
       "      <td>10114</td>\n",
       "      <td>167957</td>\n",
       "      <td>3</td>\n",
       "      <td>8856</td>\n",
       "    </tr>\n",
       "    <tr>\n",
       "      <th>3</th>\n",
       "      <td>3997</td>\n",
       "      <td>10114</td>\n",
       "      <td>167957</td>\n",
       "      <td>4</td>\n",
       "      <td>9920</td>\n",
       "    </tr>\n",
       "    <tr>\n",
       "      <th>4</th>\n",
       "      <td>3998</td>\n",
       "      <td>10114</td>\n",
       "      <td>167957</td>\n",
       "      <td>5</td>\n",
       "      <td>9671</td>\n",
       "    </tr>\n",
       "  </tbody>\n",
       "</table>\n",
       "</div>"
      ],
      "text/plain": [
       "   ow_id  subject_id  hadm_id  seq_num  icd9_code\n",
       "0   3994       10114   167957        1       3605\n",
       "1   3995       10114   167957        2       3722\n",
       "2   3996       10114   167957        3       8856\n",
       "3   3997       10114   167957        4       9920\n",
       "4   3998       10114   167957        5       9671"
      ]
     },
     "execution_count": 54,
     "metadata": {},
     "output_type": "execute_result"
    }
   ],
   "source": [
    "PROCEDURES_ICD=pd.read_csv(r'D:\\Final_year_project\\final project dataset\\final project\\PROCEDURES_ICD.csv')\n",
    "PROCEDURES_ICD.head()"
   ]
  },
  {
   "cell_type": "code",
   "execution_count": 55,
   "metadata": {},
   "outputs": [
    {
     "data": {
      "text/plain": [
       "(506, 5)"
      ]
     },
     "execution_count": 55,
     "metadata": {},
     "output_type": "execute_result"
    }
   ],
   "source": [
    "PROCEDURES_ICD.shape"
   ]
  },
  {
   "cell_type": "markdown",
   "metadata": {},
   "source": [
    "Here’s the PROCEDURES_ICD table description in tabular format:\n",
    "\n",
    "|**Column Name**|\t**Description**|\n",
    "|------------------------|-------------------------------------------------------------------------------------------------------|\n",
    "|ROW_ID\t|Unique identifier for each row in the table (used for internal tracking).|\n",
    "|SUBJECT_ID\t|Identifier for the patient associated with the procedure (foreign key to the PATIENTS table).|\n",
    "|HADM_ID\t|Identifier for the hospital admission associated with the procedure (foreign key to the ADMISSIONS tabl|e).|\n",
    "|SEQ_NUM\t|Sequential number of the procedure within a given admission (e.g., primary, secondary procedures).|\n",
    "|ICD9_CODE|\tICD-9 (International Classification of Diseases, 9th Revision) code for the procedure performed.|"
   ]
  },
  {
   "cell_type": "code",
   "execution_count": null,
   "metadata": {},
   "outputs": [],
   "source": []
  },
  {
   "cell_type": "markdown",
   "metadata": {},
   "source": []
  }
 ],
 "metadata": {
  "kernelspec": {
   "display_name": "Python 3",
   "language": "python",
   "name": "python3"
  },
  "language_info": {
   "codemirror_mode": {
    "name": "ipython",
    "version": 3
   },
   "file_extension": ".py",
   "mimetype": "text/x-python",
   "name": "python",
   "nbconvert_exporter": "python",
   "pygments_lexer": "ipython3",
   "version": "3.12.0"
  }
 },
 "nbformat": 4,
 "nbformat_minor": 2
}
