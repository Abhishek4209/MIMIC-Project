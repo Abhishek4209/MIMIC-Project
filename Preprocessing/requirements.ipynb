{
 "cells": [
  {
   "cell_type": "code",
   "execution_count": null,
   "metadata": {},
   "outputs": [],
   "source": [
    "import sys\n",
    "import subprocess\n",
    "import pkg_resources\n",
    "\n",
    "# List of modules to install\n",
    "modules = [\n",
    "    \"numpy\",\n",
    "    \"pandas\",\n",
    "    \"scikit-learn\",\n",
    "    \"matplotlib\",\n",
    "    \"seaborn\",\n",
    "    \"jupyter\",\n",
    "    \"scipy\",\n",
    "    \"statsmodels\",\n",
    "    \"tensorflow\",\n",
    "    \"keras\",\n",
    "    \"nltk\",\n",
    "    \"scispacy\",\n",
    "    \"spacy\"\n",
    "]\n",
    "\n",
    "# Function to install a module\n",
    "def install_module(module):\n",
    "    try:\n",
    "        subprocess.check_call([sys.executable, \"-m\", \"pip\", \"install\", module])\n",
    "        print(f\"Successfully installed {module}\")\n",
    "    except Exception as e:\n",
    "        print(f\"Error installing {module}: {e}\")\n",
    "\n",
    "# Install all modules\n",
    "for module in modules:\n",
    "    try:\n",
    "        # Check if the module is already installed\n",
    "        pkg_resources.require(module)\n",
    "        print(f\"{module} is already installed\")\n",
    "    except pkg_resources.DistributionNotFound:\n",
    "        # If not installed, attempt installation\n",
    "        install_module(module)"
   ]
  }
 ],
 "metadata": {
  "kernelspec": {
   "display_name": "Python 3",
   "language": "python",
   "name": "python3"
  },
  "language_info": {
   "name": "python",
   "version": "3.12.0"
  }
 },
 "nbformat": 4,
 "nbformat_minor": 2
}
